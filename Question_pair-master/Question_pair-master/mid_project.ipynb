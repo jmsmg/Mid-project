{
 "cells": [
  {
   "cell_type": "markdown",
   "id": "8eb5dd7c",
   "metadata": {},
   "source": [
    "### read"
   ]
  },
  {
   "cell_type": "code",
   "execution_count": 1,
   "id": "cce76229",
   "metadata": {
    "ExecuteTime": {
     "end_time": "2021-07-06T07:00:25.953921Z",
     "start_time": "2021-07-06T07:00:24.591861Z"
    }
   },
   "outputs": [],
   "source": [
    "import numpy as np\n",
    "import pandas as pd\n",
    "import nltk\n",
    "from konlpy.tag import Mecab"
   ]
  },
  {
   "cell_type": "code",
   "execution_count": 10,
   "id": "432d05cf",
   "metadata": {
    "ExecuteTime": {
     "end_time": "2021-07-06T07:32:57.587791Z",
     "start_time": "2021-07-06T07:32:57.564078Z"
    }
   },
   "outputs": [],
   "source": [
    "df = pd.read_csv('kor_pair_train.csv')"
   ]
  },
  {
   "cell_type": "code",
   "execution_count": 15,
   "id": "04982d4b",
   "metadata": {
    "ExecuteTime": {
     "end_time": "2021-07-06T07:43:52.894270Z",
     "start_time": "2021-07-06T07:43:52.885294Z"
    }
   },
   "outputs": [
    {
     "data": {
      "text/plain": [
       "6888"
      ]
     },
     "execution_count": 15,
     "metadata": {},
     "output_type": "execute_result"
    }
   ],
   "source": [
    "sentence = df['question1'].tolist()\n",
    "len(sentence)"
   ]
  },
  {
   "cell_type": "code",
   "execution_count": 19,
   "id": "eb31f0b5",
   "metadata": {
    "ExecuteTime": {
     "end_time": "2021-07-06T07:46:10.833701Z",
     "start_time": "2021-07-06T07:46:10.827717Z"
    }
   },
   "outputs": [
    {
     "data": {
      "text/plain": [
       "'10년만나다 헤어지네'"
      ]
     },
     "execution_count": 19,
     "metadata": {},
     "output_type": "execute_result"
    }
   ],
   "source": [
    "sentence[2]"
   ]
  },
  {
   "cell_type": "code",
   "execution_count": 13,
   "id": "f47b7f60",
   "metadata": {
    "ExecuteTime": {
     "end_time": "2021-07-06T07:33:15.630585Z",
     "start_time": "2021-07-06T07:33:15.612633Z"
    }
   },
   "outputs": [
    {
     "data": {
      "text/plain": [
       "0                 1000일 만난 여자친구와 이별\n",
       "1              10년 연애사 되돌아보니 다 부질없네\n",
       "2                       10년만나다 헤어지네\n",
       "3            10월의 마지막밤 . 더 보고싶네 그사람\n",
       "4                     14년의 기나긴 이야기.\n",
       "                   ...             \n",
       "6883                  O형 남자와 썸을 타는데\n",
       "6884                        SD카드 안돼\n",
       "6885                 SNS 를 끊어야 하는데.\n",
       "6886              SNS 시간낭비인데 자꾸 보게됨\n",
       "6887    sns에서 다른 이성이랑 대화하는걸 보니 화가 나\n",
       "Name: question1, Length: 6888, dtype: object"
      ]
     },
     "execution_count": 13,
     "metadata": {},
     "output_type": "execute_result"
    }
   ],
   "source": []
  },
  {
   "cell_type": "code",
   "execution_count": null,
   "id": "8fe500bc",
   "metadata": {},
   "outputs": [],
   "source": []
  }
 ],
 "metadata": {
  "kernelspec": {
   "display_name": "Python 3",
   "language": "python",
   "name": "python3"
  },
  "toc": {
   "base_numbering": 1,
   "nav_menu": {},
   "number_sections": true,
   "sideBar": true,
   "skip_h1_title": false,
   "title_cell": "Table of Contents",
   "title_sidebar": "Contents",
   "toc_cell": false,
   "toc_position": {
    "height": "calc(100% - 180px)",
    "left": "10px",
    "top": "150px",
    "width": "384px"
   },
   "toc_section_display": true,
   "toc_window_display": true
  }
 },
 "nbformat": 4,
 "nbformat_minor": 5
}
