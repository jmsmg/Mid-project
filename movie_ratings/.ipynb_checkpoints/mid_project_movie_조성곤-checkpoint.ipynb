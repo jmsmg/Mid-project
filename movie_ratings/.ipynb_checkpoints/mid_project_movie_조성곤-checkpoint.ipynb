{
 "cells": [
  {
   "cell_type": "markdown",
   "id": "ebd01f90",
   "metadata": {
    "ExecuteTime": {
     "end_time": "2021-07-07T04:24:09.571648Z",
     "start_time": "2021-07-07T04:24:09.565664Z"
    }
   },
   "source": [
    "# 데이터 전처리"
   ]
  },
  {
   "cell_type": "markdown",
   "id": "bef1140d",
   "metadata": {
    "ExecuteTime": {
     "end_time": "2021-07-07T04:24:37.252750Z",
     "start_time": "2021-07-07T04:24:37.241727Z"
    }
   },
   "source": [
    "## 데이터 읽어오기"
   ]
  },
  {
   "cell_type": "code",
   "execution_count": 2,
   "id": "082c7a3a",
   "metadata": {
    "ExecuteTime": {
     "end_time": "2021-07-08T06:26:17.891778Z",
     "start_time": "2021-07-08T06:26:16.501466Z"
    },
    "scrolled": true
   },
   "outputs": [
    {
     "name": "stderr",
     "output_type": "stream",
     "text": [
      "C:\\ProgramData\\Anaconda3\\lib\\site-packages\\IPython\\core\\interactiveshell.py:3166: DtypeWarning: Columns (10) have mixed types.Specify dtype option on import or set low_memory=False.\n",
      "  interactivity=interactivity, compiler=compiler, result=result)\n"
     ]
    }
   ],
   "source": [
    "import pandas as pd \n",
    "import numpy as np\n",
    "import matplotlib.pyplot as plt\n",
    "import json\n",
    "\n",
    "# 데이터 읽어오기 \n",
    "data=pd.read_csv(\"movies_metadata.csv\",encoding=\"UTF-8\")"
   ]
  },
  {
   "cell_type": "code",
   "execution_count": 3,
   "id": "91197380",
   "metadata": {
    "ExecuteTime": {
     "end_time": "2021-07-08T06:26:17.937131Z",
     "start_time": "2021-07-08T06:26:17.893277Z"
    },
    "scrolled": true
   },
   "outputs": [
    {
     "name": "stdout",
     "output_type": "stream",
     "text": [
      "<class 'pandas.core.frame.DataFrame'>\n",
      "RangeIndex: 45466 entries, 0 to 45465\n",
      "Data columns (total 24 columns):\n",
      " #   Column                 Non-Null Count  Dtype  \n",
      "---  ------                 --------------  -----  \n",
      " 0   adult                  45466 non-null  object \n",
      " 1   belongs_to_collection  4494 non-null   object \n",
      " 2   budget                 45466 non-null  object \n",
      " 3   genres                 45466 non-null  object \n",
      " 4   homepage               7782 non-null   object \n",
      " 5   id                     45466 non-null  object \n",
      " 6   imdb_id                45449 non-null  object \n",
      " 7   original_language      45455 non-null  object \n",
      " 8   original_title         45466 non-null  object \n",
      " 9   overview               44512 non-null  object \n",
      " 10  popularity             45461 non-null  object \n",
      " 11  poster_path            45080 non-null  object \n",
      " 12  production_companies   45463 non-null  object \n",
      " 13  production_countries   45463 non-null  object \n",
      " 14  release_date           45379 non-null  object \n",
      " 15  revenue                45460 non-null  float64\n",
      " 16  runtime                45203 non-null  float64\n",
      " 17  spoken_languages       45460 non-null  object \n",
      " 18  status                 45379 non-null  object \n",
      " 19  tagline                20412 non-null  object \n",
      " 20  title                  45460 non-null  object \n",
      " 21  video                  45460 non-null  object \n",
      " 22  vote_average           45460 non-null  float64\n",
      " 23  vote_count             45460 non-null  float64\n",
      "dtypes: float64(4), object(20)\n",
      "memory usage: 8.3+ MB\n"
     ]
    }
   ],
   "source": [
    "data.info()"
   ]
  },
  {
   "cell_type": "markdown",
   "id": "9a1e36b3",
   "metadata": {},
   "source": [
    "## 데이터 가공\n",
    "\n",
    "- metadata"
   ]
  },
  {
   "cell_type": "markdown",
   "id": "8d05419a",
   "metadata": {
    "ExecuteTime": {
     "end_time": "2021-07-07T06:40:53.069326Z",
     "start_time": "2021-07-07T06:40:53.055364Z"
    }
   },
   "source": [
    "### 필요한 열 선별, 결측치 제거"
   ]
  },
  {
   "cell_type": "code",
   "execution_count": 4,
   "id": "69084e1c",
   "metadata": {
    "ExecuteTime": {
     "end_time": "2021-07-08T06:26:17.997099Z",
     "start_time": "2021-07-08T06:26:17.938128Z"
    },
    "scrolled": false
   },
   "outputs": [
    {
     "data": {
      "text/plain": [
       "Index(['adult', 'budget', 'id', 'title', 'original_language', 'original_title',\n",
       "       'overview', 'popularity', 'production_countries', 'release_date',\n",
       "       'genres'],\n",
       "      dtype='object')"
      ]
     },
     "execution_count": 4,
     "metadata": {},
     "output_type": "execute_result"
    }
   ],
   "source": [
    "data = data[['adult', 'budget', 'id', 'title', 'original_language', 'original_title', 'overview', 'popularity', 'production_countries','release_date', 'genres']]\n",
    "data = data.dropna() # 결측행 제거\n",
    "data.columns"
   ]
  },
  {
   "cell_type": "markdown",
   "id": "28724702",
   "metadata": {
    "ExecuteTime": {
     "end_time": "2021-07-08T04:42:19.292652Z",
     "start_time": "2021-07-08T04:42:19.286668Z"
    }
   },
   "source": [
    "### ['genres']열 json -> list"
   ]
  },
  {
   "cell_type": "code",
   "execution_count": 45,
   "id": "60608194",
   "metadata": {
    "ExecuteTime": {
     "end_time": "2021-07-08T06:45:33.854553Z",
     "start_time": "2021-07-08T06:45:33.834607Z"
    }
   },
   "outputs": [
    {
     "data": {
      "text/plain": [
       "0         [Animation, Comedy, Family]\n",
       "1        [Adventure, Fantasy, Family]\n",
       "2                   [Romance, Comedy]\n",
       "3            [Comedy, Drama, Romance]\n",
       "4                            [Comedy]\n",
       "                     ...             \n",
       "45460        [Drama, Action, Romance]\n",
       "45462                         [Drama]\n",
       "45463       [Action, Drama, Thriller]\n",
       "45464                              []\n",
       "45465                              []\n",
       "Name: genres, Length: 44425, dtype: object"
      ]
     },
     "execution_count": 45,
     "metadata": {},
     "output_type": "execute_result"
    }
   ],
   "source": [
    "data['genres']"
   ]
  },
  {
   "cell_type": "code",
   "execution_count": 6,
   "id": "b69c96ad",
   "metadata": {
    "ExecuteTime": {
     "end_time": "2021-07-08T06:26:18.327947Z",
     "start_time": "2021-07-08T06:26:18.165046Z"
    },
    "scrolled": true
   },
   "outputs": [
    {
     "data": {
      "text/plain": [
       "0         [Animation, Comedy, Family]\n",
       "1        [Adventure, Fantasy, Family]\n",
       "2                   [Romance, Comedy]\n",
       "3            [Comedy, Drama, Romance]\n",
       "4                            [Comedy]\n",
       "                     ...             \n",
       "45460        [Drama, Action, Romance]\n",
       "45462                         [Drama]\n",
       "45463       [Action, Drama, Thriller]\n",
       "45464                              []\n",
       "45465                              []\n",
       "Name: genres, Length: 44425, dtype: object"
      ]
     },
     "execution_count": 6,
     "metadata": {},
     "output_type": "execute_result"
    }
   ],
   "source": [
    "def parse_genres(genres_str):\n",
    "    genres = json.loads(genres_str.replace('\\'', '\"'))\n",
    "    \n",
    "    genres_list = []\n",
    "    for g in genres:\n",
    "        genres_list.append(g['name'])\n",
    "        \n",
    "    return genres_list\n",
    "\n",
    "data['genres'] = data['genres'].apply(parse_genres)\n",
    "data['genres']"
   ]
  },
  {
   "cell_type": "markdown",
   "id": "4dd37c5a",
   "metadata": {
    "ExecuteTime": {
     "end_time": "2021-07-08T06:46:26.246488Z",
     "start_time": "2021-07-08T06:46:26.236543Z"
    }
   },
   "source": [
    "### ['genres']열 장르별 갯수 뽑아내기"
   ]
  },
  {
   "cell_type": "code",
   "execution_count": 7,
   "id": "2b60f8be",
   "metadata": {
    "ExecuteTime": {
     "end_time": "2021-07-08T06:26:18.449032Z",
     "start_time": "2021-07-08T06:26:18.421063Z"
    }
   },
   "outputs": [],
   "source": [
    "genre_items = []\n",
    "\n",
    "for sub_list in data['genres']:\n",
    "    for inner_genre in sub_list:\n",
    "        genre_items.append(inner_genre)"
   ]
  },
  {
   "cell_type": "code",
   "execution_count": 2,
   "id": "14ffc701",
   "metadata": {
    "ExecuteTime": {
     "end_time": "2021-07-09T00:32:07.095231Z",
     "start_time": "2021-07-09T00:32:07.075283Z"
    }
   },
   "outputs": [
    {
     "ename": "NameError",
     "evalue": "name 'genre_items' is not defined",
     "output_type": "error",
     "traceback": [
      "\u001b[1;31m---------------------------------------------------------------------------\u001b[0m",
      "\u001b[1;31mNameError\u001b[0m                                 Traceback (most recent call last)",
      "\u001b[1;32m<ipython-input-2-189cd0c06c6d>\u001b[0m in \u001b[0;36m<module>\u001b[1;34m\u001b[0m\n\u001b[0;32m      1\u001b[0m \u001b[1;32mfrom\u001b[0m \u001b[0mcollections\u001b[0m \u001b[1;32mimport\u001b[0m \u001b[0mCounter\u001b[0m\u001b[1;33m\u001b[0m\u001b[1;33m\u001b[0m\u001b[0m\n\u001b[0;32m      2\u001b[0m \u001b[1;33m\u001b[0m\u001b[0m\n\u001b[1;32m----> 3\u001b[1;33m \u001b[0mgenre_counted\u001b[0m \u001b[1;33m=\u001b[0m \u001b[0mCounter\u001b[0m\u001b[1;33m(\u001b[0m\u001b[0mgenre_items\u001b[0m\u001b[1;33m)\u001b[0m\u001b[1;33m\u001b[0m\u001b[1;33m\u001b[0m\u001b[0m\n\u001b[0m\u001b[0;32m      4\u001b[0m \u001b[0mgenre_counted\u001b[0m\u001b[1;33m\u001b[0m\u001b[1;33m\u001b[0m\u001b[0m\n",
      "\u001b[1;31mNameError\u001b[0m: name 'genre_items' is not defined"
     ]
    }
   ],
   "source": [
    "from collections import Counter\n",
    "\n",
    "genre_counted = Counter(genre_items)\n",
    "genre_counted"
   ]
  },
  {
   "cell_type": "code",
   "execution_count": 43,
   "id": "217a630b",
   "metadata": {
    "ExecuteTime": {
     "end_time": "2021-07-08T06:44:04.357123Z",
     "start_time": "2021-07-08T06:44:04.220979Z"
    }
   },
   "outputs": [
    {
     "data": {
      "image/png": "[encoded data removed]",
      "text/plain": [
       "<Figure size 432x288 with 1 Axes>"
      ]
     },
     "metadata": {
      "needs_background": "light"
     },
     "output_type": "display_data"
    },
    {
     "data": {
      "text/plain": [
       "<Figure size 720x720 with 0 Axes>"
      ]
     },
     "metadata": {},
     "output_type": "display_data"
    }
   ],
   "source": [
    "plt.bar(list(genre_counted.keys()), genre_counted.values(), color='y')\n",
    "plt.figure(figsize=(10, 10))\n",
    "plt.show()"
   ]
  },
  {
   "cell_type": "markdown",
   "id": "eafc6d09",
   "metadata": {},
   "source": [
    "### 결측치 처리"
   ]
  },
  {
   "cell_type": "code",
   "execution_count": 6,
   "id": "277496e2",
   "metadata": {
    "ExecuteTime": {
     "end_time": "2021-07-08T05:12:18.143690Z",
     "start_time": "2021-07-08T05:12:18.133717Z"
    }
   },
   "outputs": [
    {
     "data": {
      "text/plain": [
       "0"
      ]
     },
     "execution_count": 6,
     "metadata": {},
     "output_type": "execute_result"
    }
   ],
   "source": [
    "data['overview'].isnull().sum()"
   ]
  },
  {
   "cell_type": "code",
   "execution_count": 7,
   "id": "18d5e5e0",
   "metadata": {
    "ExecuteTime": {
     "end_time": "2021-07-08T05:12:18.325164Z",
     "start_time": "2021-07-08T05:12:18.308234Z"
    }
   },
   "outputs": [
    {
     "data": {
      "text/plain": [
       "0"
      ]
     },
     "execution_count": 7,
     "metadata": {},
     "output_type": "execute_result"
    }
   ],
   "source": [
    "data['overview']=data['overview'].fillna('')\n",
    "data['overview'].isnull().sum()"
   ]
  },
  {
   "cell_type": "markdown",
   "id": "3406bd8c",
   "metadata": {
    "ExecuteTime": {
     "end_time": "2021-07-07T04:27:44.686415Z",
     "start_time": "2021-07-07T04:27:44.682426Z"
    }
   },
   "source": [
    "# 텍스트 데이터 분석\n",
    "- Tokenizing\n",
    "- tf-idf\n",
    "\n",
    "> 줄거리"
   ]
  },
  {
   "cell_type": "markdown",
   "id": "a66a1fe9",
   "metadata": {},
   "source": [
    "# 줄거리 유사도 기반 영화 추천\n",
    "- TF - IDF\n",
    "- 코사인 유사도 활용\n",
    "    > 추가지표 활용 -> 키워드 기반(word2vec), 유클리디안 거리 등"
   ]
  },
  {
   "cell_type": "markdown",
   "id": "5f826926",
   "metadata": {
    "ExecuteTime": {
     "end_time": "2021-07-08T05:13:16.536783Z",
     "start_time": "2021-07-08T05:13:16.525812Z"
    }
   },
   "source": [
    "## TF IDF"
   ]
  },
  {
   "cell_type": "code",
   "execution_count": 8,
   "id": "662478da",
   "metadata": {
    "ExecuteTime": {
     "end_time": "2021-07-08T05:12:20.200714Z",
     "start_time": "2021-07-08T05:12:19.429447Z"
    },
    "scrolled": true
   },
   "outputs": [],
   "source": [
    "from sklearn.feature_extraction.text import TfidfVectorizer"
   ]
  },
  {
   "cell_type": "markdown",
   "id": "9ed21ba9",
   "metadata": {
    "ExecuteTime": {
     "end_time": "2021-07-08T05:13:02.968387Z",
     "start_time": "2021-07-08T05:13:02.965422Z"
    }
   },
   "source": [
    "### overview를 리스트화"
   ]
  },
  {
   "cell_type": "code",
   "execution_count": 9,
   "id": "e4ed58ac",
   "metadata": {
    "ExecuteTime": {
     "end_time": "2021-07-08T05:12:20.215751Z",
     "start_time": "2021-07-08T05:12:20.201733Z"
    }
   },
   "outputs": [],
   "source": [
    "corpus = data.overview.tolist()"
   ]
  },
  {
   "cell_type": "markdown",
   "id": "3ca47634",
   "metadata": {
    "ExecuteTime": {
     "end_time": "2021-07-08T05:35:25.705225Z",
     "start_time": "2021-07-08T05:35:25.691262Z"
    }
   },
   "source": [
    "### 불용어 제거"
   ]
  },
  {
   "cell_type": "code",
   "execution_count": 10,
   "id": "869224e1",
   "metadata": {
    "ExecuteTime": {
     "end_time": "2021-07-08T05:12:20.547709Z",
     "start_time": "2021-07-08T05:12:20.532888Z"
    }
   },
   "outputs": [],
   "source": [
    "tfidf = TfidfVectorizer(stop_words='english', min_df=0.0005)#불용어 제거 "
   ]
  },
  {
   "cell_type": "code",
   "execution_count": null,
   "id": "3fa6fb53",
   "metadata": {},
   "outputs": [],
   "source": [
    "overview"
   ]
  },
  {
   "cell_type": "code",
   "execution_count": 11,
   "id": "a253d247",
   "metadata": {
    "ExecuteTime": {
     "end_time": "2021-07-08T05:12:22.436156Z",
     "start_time": "2021-07-08T05:12:20.771504Z"
    }
   },
   "outputs": [],
   "source": [
    "tfidf_mat = tfidf.fit_transform(data['overview']).toarray()"
   ]
  },
  {
   "cell_type": "code",
   "execution_count": 12,
   "id": "86df9160",
   "metadata": {
    "ExecuteTime": {
     "end_time": "2021-07-08T05:12:22.906191Z",
     "start_time": "2021-07-08T05:12:22.891453Z"
    }
   },
   "outputs": [],
   "source": [
    "vectorizer = TfidfVectorizer() # setting min_df (memory issue)"
   ]
  },
  {
   "cell_type": "code",
   "execution_count": 13,
   "id": "6ee477df",
   "metadata": {
    "ExecuteTime": {
     "end_time": "2021-07-08T05:12:26.543176Z",
     "start_time": "2021-07-08T05:12:23.971556Z"
    },
    "scrolled": true
   },
   "outputs": [],
   "source": [
    "tfidf = vectorizer.fit_transform(corpus).todense()"
   ]
  },
  {
   "cell_type": "code",
   "execution_count": 19,
   "id": "1aef9d00",
   "metadata": {
    "ExecuteTime": {
     "end_time": "2021-07-08T05:14:17.145262Z",
     "start_time": "2021-07-08T05:14:17.134291Z"
    }
   },
   "outputs": [],
   "source": [
    "from numpy.linalg import norm\n",
    "def cos_sim(X,Y):\n",
    "    return np.dot(X,Y)/((norm(X)*norm(Y))+1e-7)"
   ]
  },
  {
   "cell_type": "code",
   "execution_count": 20,
   "id": "5d5bb5ad",
   "metadata": {
    "ExecuteTime": {
     "end_time": "2021-07-08T05:14:17.401949Z",
     "start_time": "2021-07-08T05:14:17.394968Z"
    }
   },
   "outputs": [],
   "source": [
    "def top_match_ar(data, name, rank=5,simf=cos_sim2):\n",
    "    sim=[]\n",
    "    for i in range(len(data)):\n",
    "        if name != i:\n",
    "            sim.append((simf(data[i],data[name]),i))\n",
    "    sim.sort()\n",
    "    sim.reverse()\n",
    "    return sim[:rank]"
   ]
  },
  {
   "cell_type": "code",
   "execution_count": 21,
   "id": "92736128",
   "metadata": {
    "ExecuteTime": {
     "end_time": "2021-07-08T05:14:18.571852Z",
     "start_time": "2021-07-08T05:14:17.716142Z"
    },
    "scrolled": false
   },
   "outputs": [
    {
     "data": {
      "text/plain": [
       "[(0.506039047658413, 'Reunion'),\n",
       " (0.4420531682998111, 'Maurice'),\n",
       " (0.37882086543215426, 'Pretty Persuasion'),\n",
       " (0.3499015656705445, 'The Phantom Carriage'),\n",
       " (0.33762452542326127, 'Hindle Wakes'),\n",
       " (0.3276703797203998, 'When Hari Got Married'),\n",
       " (0.3198768043160831, 'Russian Roulette'),\n",
       " (0.30514033253034784, \"Ghosts Can't Do It\"),\n",
       " (0.29846134847755995, 'Zombie Undead'),\n",
       " (0.2440247213297409, 'Juliet of the Spirits')]"
      ]
     },
     "execution_count": 21,
     "metadata": {},
     "output_type": "execute_result"
    }
   ],
   "source": [
    "movieList = [] \n",
    "for sim, movie_id in top_match_ar(tfidf_mat,0,10):\n",
    "    movieList.append((sim, data.loc[movie_id,'title']))\n",
    "movieList[:10]"
   ]
  },
  {
   "cell_type": "markdown",
   "id": "7863d71d",
   "metadata": {},
   "source": [
    "# 머신러닝 적용\n",
    "- 줄거리의 특정 키워드와 평점의 상관관계\n",
    "- 추가변수 감독\n",
    "\n",
    "    > 줄거리로 영화 평점 예측"
   ]
  },
  {
   "cell_type": "code",
   "execution_count": null,
   "id": "bdc61aeb",
   "metadata": {},
   "outputs": [],
   "source": []
  },
  {
   "cell_type": "code",
   "execution_count": null,
   "id": "a82b427d",
   "metadata": {},
   "outputs": [],
   "source": []
  },
  {
   "cell_type": "code",
   "execution_count": null,
   "id": "95e85afd",
   "metadata": {},
   "outputs": [],
   "source": []
  },
  {
   "cell_type": "code",
   "execution_count": null,
   "id": "40e63f74",
   "metadata": {},
   "outputs": [],
   "source": []
  },
  {
   "cell_type": "code",
   "execution_count": null,
   "id": "28a6b69f",
   "metadata": {},
   "outputs": [],
   "source": []
  }
 ],
 "metadata": {
  "kernelspec": {
   "display_name": "Python 3",
   "language": "python",
   "name": "python3"
  },
  "language_info": {
   "codemirror_mode": {
    "name": "ipython",
    "version": 3
   },
   "file_extension": ".py",
   "mimetype": "text/x-python",
   "name": "python",
   "nbconvert_exporter": "python",
   "pygments_lexer": "ipython3",
   "version": "3.7.3"
  },
  "toc": {
   "base_numbering": 1,
   "nav_menu": {},
   "number_sections": true,
   "sideBar": true,
   "skip_h1_title": false,
   "title_cell": "Table of Contents",
   "title_sidebar": "Contents",
   "toc_cell": false,
   "toc_position": {
    "height": "calc(100% - 180px)",
    "left": "10px",
    "top": "150px",
    "width": "191.594px"
   },
   "toc_section_display": true,
   "toc_window_display": false
  }
 },
 "nbformat": 4,
 "nbformat_minor": 5
}
