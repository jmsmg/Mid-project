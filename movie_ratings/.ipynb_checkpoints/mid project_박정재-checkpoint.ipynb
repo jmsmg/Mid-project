{
 "cells": [
  {
   "cell_type": "markdown",
   "metadata": {
    "id": "XfSV37VfT1Xt"
   },
   "source": [
    "# 데이터 소개 및 분석 주제"
   ]
  },
  {
   "cell_type": "markdown",
   "metadata": {
    "id": "0oWdaZJbT1X7"
   },
   "source": [
    "## 데이터 소개"
   ]
  },
  {
   "cell_type": "markdown",
   "metadata": {
    "id": "Yq91rsukT1X7"
   },
   "source": [
    "① 'The Movies Dataset'\n",
    "\n",
    " https://www.kaggle.com/rounakbanik/the-movies-dataset?select=movies_metadata.csv"
   ]
  },
  {
   "cell_type": "markdown",
   "metadata": {
    "id": "qDxf_sPcT1X7"
   },
   "source": [
    "![nn](Dataset.png)"
   ]
  },
  {
   "cell_type": "markdown",
   "metadata": {
    "id": "RjbRViJKT1X8"
   },
   "source": [
    "② 웹 크롤링(?)"
   ]
  },
  {
   "cell_type": "markdown",
   "metadata": {
    "id": "RKz7ZSHGT1X8"
   },
   "source": [
    "#### 분석 주제"
   ]
  },
  {
   "cell_type": "markdown",
   "metadata": {
    "id": "LCKX5MTeT1X8"
   },
   "source": [
    "다양한 영화 추천시스템을 코드로 구현해보고, 각각의 장단점을 비교한다"
   ]
  },
  {
   "cell_type": "code",
   "execution_count": null,
   "metadata": {
    "id": "0e-t753OT1X8"
   },
   "outputs": [],
   "source": []
  },
  {
   "cell_type": "markdown",
   "metadata": {
    "id": "SRnwMtkAT1X8"
   },
   "source": [
    "# 1.영화 추천시스템"
   ]
  },
  {
   "cell_type": "code",
   "execution_count": null,
   "metadata": {
    "id": "PEebMvjnT1X8"
   },
   "outputs": [],
   "source": [
    "import os\n",
    "import pandas as pd\n",
    "import numpy as np\n",
    "import matplotlib.pyplot as plt\n",
    "import seaborn as sns\n",
    "import warnings\n",
    "warnings.filterwarnings('ignore')\n",
    "\n",
    "from PIL import Image\n",
    "from ast import literal_eval"
   ]
  },
  {
   "cell_type": "markdown",
   "metadata": {
    "id": "iACPIgnFT1X8"
   },
   "source": [
    "## 1-1. 장르별 단순 추천시스템 "
   ]
  },
  {
   "cell_type": "markdown",
   "metadata": {
    "id": "DqEPwHDXT1X8"
   },
   "source": [
    "### 1-1-1. 데이터 전처리 방법: 가중치 부여(vote_average & vote_count)"
   ]
  },
  {
   "cell_type": "code",
   "execution_count": null,
   "metadata": {
    "id": "8CQ3AHfBT1X9"
   },
   "outputs": [],
   "source": [
    "movies = pd.read_csv('..\\\\Mid-Project\\\\movies_metadata.csv')"
   ]
  },
  {
   "cell_type": "code",
   "execution_count": null,
   "metadata": {
    "id": "cg3F6dEmT1X9"
   },
   "outputs": [],
   "source": [
    "movies_1 = movies[['imdb_id','original_title','genres','overview','vote_average','vote_count']]"
   ]
  },
  {
   "cell_type": "code",
   "execution_count": null,
   "metadata": {
    "id": "1hrUkPWWT1X9",
    "outputId": "c4dd6887-b284-40aa-86db-3b4257ec326a",
    "scrolled": true
   },
   "outputs": [
    {
     "data": {
      "text/html": [
       "<div>\n",
       "<style scoped>\n",
       "    .dataframe tbody tr th:only-of-type {\n",
       "        vertical-align: middle;\n",
       "    }\n",
       "\n",
       "    .dataframe tbody tr th {\n",
       "        vertical-align: top;\n",
       "    }\n",
       "\n",
       "    .dataframe thead th {\n",
       "        text-align: right;\n",
       "    }\n",
       "</style>\n",
       "<table border=\"1\" class=\"dataframe\">\n",
       "  <thead>\n",
       "    <tr style=\"text-align: right;\">\n",
       "      <th></th>\n",
       "      <th>original_title</th>\n",
       "      <th>vote_average</th>\n",
       "      <th>vote_count</th>\n",
       "    </tr>\n",
       "  </thead>\n",
       "  <tbody>\n",
       "    <tr>\n",
       "      <th>21642</th>\n",
       "      <td>Ice Age Columbus: Who Were the First Americans?</td>\n",
       "      <td>10.0</td>\n",
       "      <td>1.0</td>\n",
       "    </tr>\n",
       "    <tr>\n",
       "      <th>15710</th>\n",
       "      <td>If God Is Willing and da Creek Don't Rise</td>\n",
       "      <td>10.0</td>\n",
       "      <td>1.0</td>\n",
       "    </tr>\n",
       "    <tr>\n",
       "      <th>22396</th>\n",
       "      <td>Meat the Truth</td>\n",
       "      <td>10.0</td>\n",
       "      <td>1.0</td>\n",
       "    </tr>\n",
       "    <tr>\n",
       "      <th>22395</th>\n",
       "      <td>Marvin Hamlisch: What He Did For Love</td>\n",
       "      <td>10.0</td>\n",
       "      <td>1.0</td>\n",
       "    </tr>\n",
       "    <tr>\n",
       "      <th>35343</th>\n",
       "      <td>Elaine Stritch: At Liberty</td>\n",
       "      <td>10.0</td>\n",
       "      <td>1.0</td>\n",
       "    </tr>\n",
       "  </tbody>\n",
       "</table>\n",
       "</div>"
      ],
      "text/plain": [
       "                                        original_title  vote_average  \\\n",
       "21642  Ice Age Columbus: Who Were the First Americans?          10.0   \n",
       "15710        If God Is Willing and da Creek Don't Rise          10.0   \n",
       "22396                                   Meat the Truth          10.0   \n",
       "22395            Marvin Hamlisch: What He Did For Love          10.0   \n",
       "35343                       Elaine Stritch: At Liberty          10.0   \n",
       "\n",
       "       vote_count  \n",
       "21642         1.0  \n",
       "15710         1.0  \n",
       "22396         1.0  \n",
       "22395         1.0  \n",
       "35343         1.0  "
      ]
     },
     "execution_count": 8,
     "metadata": {
      "tags": []
     },
     "output_type": "execute_result"
    }
   ],
   "source": [
    "# 가중치 부여 전\n",
    "before = movies_1[['original_title','vote_average','vote_count']]\n",
    "before.sort_values('vote_average', ascending=False).head()"
   ]
  },
  {
   "cell_type": "code",
   "execution_count": null,
   "metadata": {
    "id": "BO-FnUupT1X9",
    "outputId": "39f913d8-5219-4b0d-8efb-2016e90c0c5e",
    "scrolled": true
   },
   "outputs": [
    {
     "data": {
      "image/png": "[encoded data removed]",
      "text/plain": [
       "<Figure size 720x360 with 1 Axes>"
      ]
     },
     "metadata": {
      "needs_background": "light",
      "tags": []
     },
     "output_type": "display_data"
    }
   ],
   "source": [
    "vote_score=movies_1.sort_values('vote_average', ascending=False)\n",
    "plt.figure(figsize=(10,5)) \n",
    "axis1=sns.barplot(x=vote_score['vote_average'].head(), y=vote_score['original_title'].head(), data=vote_score)\n",
    "           \n",
    "plt.xlim(1,10)\n",
    "plt.title('Best Movies', weight='bold')\n",
    "plt.xlabel('Simple Average Score', weight='bold')\n",
    "plt.ylabel('Movie Title')\n",
    "plt.savefig('best_movies.png')"
   ]
  },
  {
   "cell_type": "markdown",
   "metadata": {
    "id": "IQpRKZOFT1X-"
   },
   "source": [
    "##### IMDB에서 사용하는 가중치 공식 (imdb's weighted rating formula)"
   ]
  },
  {
   "cell_type": "markdown",
   "metadata": {
    "id": "KguRdv-XT1X-"
   },
   "source": [
    "![nn](weighted_rating.png)"
   ]
  },
  {
   "cell_type": "markdown",
   "metadata": {
    "id": "d1eH3_oXT1X-"
   },
   "source": [
    "V는 영화의 득표수\n",
    "\n",
    "m은 차트에 나열되기 위한 최소한의 득표수\n",
    "\n",
    "R은 영화의 평균 평점\n",
    "\n",
    "C는 전체 차트의 평균 평점"
   ]
  },
  {
   "cell_type": "code",
   "execution_count": null,
   "metadata": {
    "id": "FApoTl4_T1X_"
   },
   "outputs": [],
   "source": [
    "# 가중치 부여\n",
    "vote_counts = movies_1[movies_1['vote_count'].notnull()]['vote_count'].astype('int')\n",
    "vote_averages = movies_1[movies_1['vote_average'].notnull()]['vote_average'].astype('int')"
   ]
  },
  {
   "cell_type": "code",
   "execution_count": null,
   "metadata": {
    "id": "PXDxwYbGT1X_",
    "scrolled": false
   },
   "outputs": [],
   "source": [
    "C = vote_averages.mean() \n",
    "m = vote_counts.quantile(0.95) \n",
    "\n",
    "def weighted_rating(x):\n",
    "    v = x['vote_count'] \n",
    "    R = x['vote_average'] \n",
    "    return (v/(v+m) * R) + (m/(m+v) * C)\n",
    "\n",
    "movies_1['weighted'] = movies_1.apply(weighted_rating, axis=1)"
   ]
  },
  {
   "cell_type": "code",
   "execution_count": null,
   "metadata": {
    "id": "Bi8VgHUKT1YA",
    "outputId": "aab147ee-284d-4afe-85a7-cecce81e2d65"
   },
   "outputs": [
    {
     "data": {
      "text/html": [
       "<div>\n",
       "<style scoped>\n",
       "    .dataframe tbody tr th:only-of-type {\n",
       "        vertical-align: middle;\n",
       "    }\n",
       "\n",
       "    .dataframe tbody tr th {\n",
       "        vertical-align: top;\n",
       "    }\n",
       "\n",
       "    .dataframe thead th {\n",
       "        text-align: right;\n",
       "    }\n",
       "</style>\n",
       "<table border=\"1\" class=\"dataframe\">\n",
       "  <thead>\n",
       "    <tr style=\"text-align: right;\">\n",
       "      <th></th>\n",
       "      <th>original_title</th>\n",
       "      <th>vote_average</th>\n",
       "      <th>vote_count</th>\n",
       "      <th>weighted</th>\n",
       "    </tr>\n",
       "  </thead>\n",
       "  <tbody>\n",
       "    <tr>\n",
       "      <th>0</th>\n",
       "      <td>Toy Story</td>\n",
       "      <td>7.7</td>\n",
       "      <td>5415.0</td>\n",
       "      <td>7.517830</td>\n",
       "    </tr>\n",
       "    <tr>\n",
       "      <th>1</th>\n",
       "      <td>Jumanji</td>\n",
       "      <td>6.9</td>\n",
       "      <td>2413.0</td>\n",
       "      <td>6.647694</td>\n",
       "    </tr>\n",
       "    <tr>\n",
       "      <th>2</th>\n",
       "      <td>Grumpier Old Men</td>\n",
       "      <td>6.5</td>\n",
       "      <td>92.0</td>\n",
       "      <td>5.464420</td>\n",
       "    </tr>\n",
       "    <tr>\n",
       "      <th>3</th>\n",
       "      <td>Waiting to Exhale</td>\n",
       "      <td>6.1</td>\n",
       "      <td>34.0</td>\n",
       "      <td>5.307020</td>\n",
       "    </tr>\n",
       "    <tr>\n",
       "      <th>4</th>\n",
       "      <td>Father of the Bride Part II</td>\n",
       "      <td>5.7</td>\n",
       "      <td>173.0</td>\n",
       "      <td>5.374605</td>\n",
       "    </tr>\n",
       "  </tbody>\n",
       "</table>\n",
       "</div>"
      ],
      "text/plain": [
       "                original_title  vote_average  vote_count  weighted\n",
       "0                    Toy Story           7.7      5415.0  7.517830\n",
       "1                      Jumanji           6.9      2413.0  6.647694\n",
       "2             Grumpier Old Men           6.5        92.0  5.464420\n",
       "3            Waiting to Exhale           6.1        34.0  5.307020\n",
       "4  Father of the Bride Part II           5.7       173.0  5.374605"
      ]
     },
     "execution_count": 12,
     "metadata": {
      "tags": []
     },
     "output_type": "execute_result"
    }
   ],
   "source": [
    "# 가중치 부여 후\n",
    "after=movies_1[['original_title','vote_average','vote_count','weighted']]\n",
    "after.head()"
   ]
  },
  {
   "cell_type": "code",
   "execution_count": null,
   "metadata": {
    "id": "pVNUm-soT1YB",
    "outputId": "cbcb1ec4-499c-4d9e-862a-41dd90c5ab6a",
    "scrolled": true
   },
   "outputs": [
    {
     "data": {
      "image/png": "[encoded data removed]",
      "text/plain": [
       "<Figure size 720x360 with 1 Axes>"
      ]
     },
     "metadata": {
      "needs_background": "light",
      "tags": []
     },
     "output_type": "display_data"
    }
   ],
   "source": [
    "weight_average=movies_1.sort_values('weighted', ascending=False)\n",
    "plt.figure(figsize=(10,5)) \n",
    "axis1=sns.barplot(x=weight_average['weighted'].head(), y=weight_average['original_title'].head(), data=weight_average)\n",
    "\n",
    "           \n",
    "plt.xlim(1,10)\n",
    "plt.title('Best Movies', weight='bold')\n",
    "plt.xlabel('Weighted Average Score', weight='bold')\n",
    "plt.ylabel('Movie Title')\n",
    "plt.savefig('best_movies.png')"
   ]
  },
  {
   "cell_type": "markdown",
   "metadata": {
    "id": "RtSuWTTDT1YC"
   },
   "source": [
    "### 1-1-2. 분석 프로세스 : 장르별 추천"
   ]
  },
  {
   "cell_type": "code",
   "execution_count": null,
   "metadata": {
    "id": "aqmNKZ4MT1YD",
    "scrolled": true
   },
   "outputs": [],
   "source": [
    "#딕셔너리에서 키값 가져오기\n",
    "# literal_eval: 문자열을 딕셔너리/리스트 형태로 변환해줌\n",
    "#isinstance(instance, 클래스/데이터타입) : 인스턴스가 특정 클래스/데이터 타입과 일치할 경우에는 True, 아닌 경우에는 False를 리턴\n",
    "\n",
    "movies_1['genres'] = movies_1['genres'].fillna('[]').apply(literal_eval).apply(lambda x: [i['name'] for i in x] \n",
    "                                                                           if isinstance(x, list) else [])"
   ]
  },
  {
   "cell_type": "code",
   "execution_count": null,
   "metadata": {
    "id": "KObBItJkT1YD",
    "outputId": "c93dc5ea-7de7-4293-a5ff-923179b985df"
   },
   "outputs": [
    {
     "data": {
      "text/html": [
       "<div>\n",
       "<style scoped>\n",
       "    .dataframe tbody tr th:only-of-type {\n",
       "        vertical-align: middle;\n",
       "    }\n",
       "\n",
       "    .dataframe tbody tr th {\n",
       "        vertical-align: top;\n",
       "    }\n",
       "\n",
       "    .dataframe thead th {\n",
       "        text-align: right;\n",
       "    }\n",
       "</style>\n",
       "<table border=\"1\" class=\"dataframe\">\n",
       "  <thead>\n",
       "    <tr style=\"text-align: right;\">\n",
       "      <th></th>\n",
       "      <th>original_title</th>\n",
       "      <th>genres</th>\n",
       "    </tr>\n",
       "  </thead>\n",
       "  <tbody>\n",
       "    <tr>\n",
       "      <th>0</th>\n",
       "      <td>Toy Story</td>\n",
       "      <td>[Animation, Comedy, Family]</td>\n",
       "    </tr>\n",
       "    <tr>\n",
       "      <th>1</th>\n",
       "      <td>Jumanji</td>\n",
       "      <td>[Adventure, Fantasy, Family]</td>\n",
       "    </tr>\n",
       "    <tr>\n",
       "      <th>2</th>\n",
       "      <td>Grumpier Old Men</td>\n",
       "      <td>[Romance, Comedy]</td>\n",
       "    </tr>\n",
       "    <tr>\n",
       "      <th>3</th>\n",
       "      <td>Waiting to Exhale</td>\n",
       "      <td>[Comedy, Drama, Romance]</td>\n",
       "    </tr>\n",
       "    <tr>\n",
       "      <th>4</th>\n",
       "      <td>Father of the Bride Part II</td>\n",
       "      <td>[Comedy]</td>\n",
       "    </tr>\n",
       "  </tbody>\n",
       "</table>\n",
       "</div>"
      ],
      "text/plain": [
       "                original_title                        genres\n",
       "0                    Toy Story   [Animation, Comedy, Family]\n",
       "1                      Jumanji  [Adventure, Fantasy, Family]\n",
       "2             Grumpier Old Men             [Romance, Comedy]\n",
       "3            Waiting to Exhale      [Comedy, Drama, Romance]\n",
       "4  Father of the Bride Part II                      [Comedy]"
      ]
     },
     "execution_count": 16,
     "metadata": {
      "tags": []
     },
     "output_type": "execute_result"
    }
   ],
   "source": [
    "movies_1[['original_title','genres']].head()"
   ]
  },
  {
   "cell_type": "code",
   "execution_count": null,
   "metadata": {
    "id": "khRH195OT1YD",
    "outputId": "8f89afb1-8d41-4f3f-f2b8-2fc49fa1ceef",
    "scrolled": false
   },
   "outputs": [
    {
     "data": {
      "text/plain": [
       "0    Animation\n",
       "0       Comedy\n",
       "0       Family\n",
       "1    Adventure\n",
       "1      Fantasy\n",
       "1       Family\n",
       "2      Romance\n",
       "2       Comedy\n",
       "3       Comedy\n",
       "3        Drama\n",
       "dtype: object"
      ]
     },
     "execution_count": 17,
     "metadata": {
      "tags": []
     },
     "output_type": "execute_result"
    }
   ],
   "source": [
    "# 하나의 영화가 복수의 장르에 속함\n",
    "# 하나하나 꺼내서 g에 데이터 저장\n",
    "\n",
    "g = movies_1.apply(lambda x: pd.Series(x['genres']),axis=1).stack().reset_index(level=1, drop=True)\n",
    "g.head(10)"
   ]
  },
  {
   "cell_type": "code",
   "execution_count": null,
   "metadata": {
    "id": "eQBSPF6WT1YD",
    "outputId": "688f4a6f-6e27-43ce-8994-e368329e9ee1"
   },
   "outputs": [
    {
     "data": {
      "text/html": [
       "<div>\n",
       "<style scoped>\n",
       "    .dataframe tbody tr th:only-of-type {\n",
       "        vertical-align: middle;\n",
       "    }\n",
       "\n",
       "    .dataframe tbody tr th {\n",
       "        vertical-align: top;\n",
       "    }\n",
       "\n",
       "    .dataframe thead th {\n",
       "        text-align: right;\n",
       "    }\n",
       "</style>\n",
       "<table border=\"1\" class=\"dataframe\">\n",
       "  <thead>\n",
       "    <tr style=\"text-align: right;\">\n",
       "      <th></th>\n",
       "      <th>imdb_id</th>\n",
       "      <th>original_title</th>\n",
       "      <th>overview</th>\n",
       "      <th>vote_average</th>\n",
       "      <th>vote_count</th>\n",
       "      <th>weighted</th>\n",
       "      <th>genre</th>\n",
       "    </tr>\n",
       "  </thead>\n",
       "  <tbody>\n",
       "    <tr>\n",
       "      <th>0</th>\n",
       "      <td>tt0114709</td>\n",
       "      <td>Toy Story</td>\n",
       "      <td>Led by Woody, Andy's toys live happily in his ...</td>\n",
       "      <td>7.7</td>\n",
       "      <td>5415.0</td>\n",
       "      <td>7.517830</td>\n",
       "      <td>Animation</td>\n",
       "    </tr>\n",
       "    <tr>\n",
       "      <th>0</th>\n",
       "      <td>tt0114709</td>\n",
       "      <td>Toy Story</td>\n",
       "      <td>Led by Woody, Andy's toys live happily in his ...</td>\n",
       "      <td>7.7</td>\n",
       "      <td>5415.0</td>\n",
       "      <td>7.517830</td>\n",
       "      <td>Comedy</td>\n",
       "    </tr>\n",
       "    <tr>\n",
       "      <th>0</th>\n",
       "      <td>tt0114709</td>\n",
       "      <td>Toy Story</td>\n",
       "      <td>Led by Woody, Andy's toys live happily in his ...</td>\n",
       "      <td>7.7</td>\n",
       "      <td>5415.0</td>\n",
       "      <td>7.517830</td>\n",
       "      <td>Family</td>\n",
       "    </tr>\n",
       "    <tr>\n",
       "      <th>1</th>\n",
       "      <td>tt0113497</td>\n",
       "      <td>Jumanji</td>\n",
       "      <td>When siblings Judy and Peter discover an encha...</td>\n",
       "      <td>6.9</td>\n",
       "      <td>2413.0</td>\n",
       "      <td>6.647694</td>\n",
       "      <td>Adventure</td>\n",
       "    </tr>\n",
       "    <tr>\n",
       "      <th>1</th>\n",
       "      <td>tt0113497</td>\n",
       "      <td>Jumanji</td>\n",
       "      <td>When siblings Judy and Peter discover an encha...</td>\n",
       "      <td>6.9</td>\n",
       "      <td>2413.0</td>\n",
       "      <td>6.647694</td>\n",
       "      <td>Fantasy</td>\n",
       "    </tr>\n",
       "    <tr>\n",
       "      <th>1</th>\n",
       "      <td>tt0113497</td>\n",
       "      <td>Jumanji</td>\n",
       "      <td>When siblings Judy and Peter discover an encha...</td>\n",
       "      <td>6.9</td>\n",
       "      <td>2413.0</td>\n",
       "      <td>6.647694</td>\n",
       "      <td>Family</td>\n",
       "    </tr>\n",
       "    <tr>\n",
       "      <th>2</th>\n",
       "      <td>tt0113228</td>\n",
       "      <td>Grumpier Old Men</td>\n",
       "      <td>A family wedding reignites the ancient feud be...</td>\n",
       "      <td>6.5</td>\n",
       "      <td>92.0</td>\n",
       "      <td>5.464420</td>\n",
       "      <td>Romance</td>\n",
       "    </tr>\n",
       "    <tr>\n",
       "      <th>2</th>\n",
       "      <td>tt0113228</td>\n",
       "      <td>Grumpier Old Men</td>\n",
       "      <td>A family wedding reignites the ancient feud be...</td>\n",
       "      <td>6.5</td>\n",
       "      <td>92.0</td>\n",
       "      <td>5.464420</td>\n",
       "      <td>Comedy</td>\n",
       "    </tr>\n",
       "    <tr>\n",
       "      <th>3</th>\n",
       "      <td>tt0114885</td>\n",
       "      <td>Waiting to Exhale</td>\n",
       "      <td>Cheated on, mistreated and stepped on, the wom...</td>\n",
       "      <td>6.1</td>\n",
       "      <td>34.0</td>\n",
       "      <td>5.307020</td>\n",
       "      <td>Comedy</td>\n",
       "    </tr>\n",
       "    <tr>\n",
       "      <th>3</th>\n",
       "      <td>tt0114885</td>\n",
       "      <td>Waiting to Exhale</td>\n",
       "      <td>Cheated on, mistreated and stepped on, the wom...</td>\n",
       "      <td>6.1</td>\n",
       "      <td>34.0</td>\n",
       "      <td>5.307020</td>\n",
       "      <td>Drama</td>\n",
       "    </tr>\n",
       "    <tr>\n",
       "      <th>3</th>\n",
       "      <td>tt0114885</td>\n",
       "      <td>Waiting to Exhale</td>\n",
       "      <td>Cheated on, mistreated and stepped on, the wom...</td>\n",
       "      <td>6.1</td>\n",
       "      <td>34.0</td>\n",
       "      <td>5.307020</td>\n",
       "      <td>Romance</td>\n",
       "    </tr>\n",
       "    <tr>\n",
       "      <th>4</th>\n",
       "      <td>tt0113041</td>\n",
       "      <td>Father of the Bride Part II</td>\n",
       "      <td>Just when George Banks has recovered from his ...</td>\n",
       "      <td>5.7</td>\n",
       "      <td>173.0</td>\n",
       "      <td>5.374605</td>\n",
       "      <td>Comedy</td>\n",
       "    </tr>\n",
       "  </tbody>\n",
       "</table>\n",
       "</div>"
      ],
      "text/plain": [
       "     imdb_id               original_title  \\\n",
       "0  tt0114709                    Toy Story   \n",
       "0  tt0114709                    Toy Story   \n",
       "0  tt0114709                    Toy Story   \n",
       "1  tt0113497                      Jumanji   \n",
       "1  tt0113497                      Jumanji   \n",
       "1  tt0113497                      Jumanji   \n",
       "2  tt0113228             Grumpier Old Men   \n",
       "2  tt0113228             Grumpier Old Men   \n",
       "3  tt0114885            Waiting to Exhale   \n",
       "3  tt0114885            Waiting to Exhale   \n",
       "3  tt0114885            Waiting to Exhale   \n",
       "4  tt0113041  Father of the Bride Part II   \n",
       "\n",
       "                                            overview  vote_average  \\\n",
       "0  Led by Woody, Andy's toys live happily in his ...           7.7   \n",
       "0  Led by Woody, Andy's toys live happily in his ...           7.7   \n",
       "0  Led by Woody, Andy's toys live happily in his ...           7.7   \n",
       "1  When siblings Judy and Peter discover an encha...           6.9   \n",
       "1  When siblings Judy and Peter discover an encha...           6.9   \n",
       "1  When siblings Judy and Peter discover an encha...           6.9   \n",
       "2  A family wedding reignites the ancient feud be...           6.5   \n",
       "2  A family wedding reignites the ancient feud be...           6.5   \n",
       "3  Cheated on, mistreated and stepped on, the wom...           6.1   \n",
       "3  Cheated on, mistreated and stepped on, the wom...           6.1   \n",
       "3  Cheated on, mistreated and stepped on, the wom...           6.1   \n",
       "4  Just when George Banks has recovered from his ...           5.7   \n",
       "\n",
       "   vote_count  weighted      genre  \n",
       "0      5415.0  7.517830  Animation  \n",
       "0      5415.0  7.517830     Comedy  \n",
       "0      5415.0  7.517830     Family  \n",
       "1      2413.0  6.647694  Adventure  \n",
       "1      2413.0  6.647694    Fantasy  \n",
       "1      2413.0  6.647694     Family  \n",
       "2        92.0  5.464420    Romance  \n",
       "2        92.0  5.464420     Comedy  \n",
       "3        34.0  5.307020     Comedy  \n",
       "3        34.0  5.307020      Drama  \n",
       "3        34.0  5.307020    Romance  \n",
       "4       173.0  5.374605     Comedy  "
      ]
     },
     "execution_count": 18,
     "metadata": {
      "tags": []
     },
     "output_type": "execute_result"
    }
   ],
   "source": [
    "# 기존의 'genres'는 삭제하고,새로운 genre인 g를 집어넣음\n",
    "\n",
    "g.name = 'genre'\n",
    "gen_movies = movies_1.drop('genres', axis=1).join(g)\n",
    "gen_movies.head(12)"
   ]
  },
  {
   "cell_type": "code",
   "execution_count": null,
   "metadata": {
    "id": "jEpntQj4T1YE"
   },
   "outputs": [],
   "source": [
    "#장르별 추천함수 만들기\n",
    "\n",
    "def genre_chart(genre,percentile=0.95):\n",
    "   \n",
    "    df=gen_movies[gen_movies['genre'] == genre]\n",
    "    vote_counts=df[df['vote_count'].notnull()]['vote_count'].astype(int)\n",
    "    vote_averages=df[df['vote_average'].notnull()]['vote_average'].astype(int)\n",
    "  \n",
    "    c=vote_averages.mean()\n",
    "    m=vote_counts.quantile(percentile)\n",
    "    \n",
    "    qualified=df[df['vote_count'].notnull() & df['vote_average'].notnull()][['original_title','vote_count','vote_average']]\n",
    "    qualified['weighted'] = qualified.apply(lambda x: (x['vote_count']/(x['vote_count']+m) * x['vote_average']) + (m/(m+x['vote_count']) * C), axis=1)\n",
    "    qualified = qualified.sort_values('weighted', ascending=False).head(100)\n",
    "    \n",
    "    return qualified"
   ]
  },
  {
   "cell_type": "markdown",
   "metadata": {
    "id": "JyG12K_ET1YE"
   },
   "source": [
    "### 1-1-3. 결과 해석"
   ]
  },
  {
   "cell_type": "code",
   "execution_count": null,
   "metadata": {
    "id": "qhFXOh3tT1YE",
    "outputId": "b5e98de3-a71f-4a3e-c460-79706cc2a4e4",
    "scrolled": true
   },
   "outputs": [
    {
     "data": {
      "text/html": [
       "<div>\n",
       "<style scoped>\n",
       "    .dataframe tbody tr th:only-of-type {\n",
       "        vertical-align: middle;\n",
       "    }\n",
       "\n",
       "    .dataframe tbody tr th {\n",
       "        vertical-align: top;\n",
       "    }\n",
       "\n",
       "    .dataframe thead th {\n",
       "        text-align: right;\n",
       "    }\n",
       "</style>\n",
       "<table border=\"1\" class=\"dataframe\">\n",
       "  <thead>\n",
       "    <tr style=\"text-align: right;\">\n",
       "      <th></th>\n",
       "      <th>original_title</th>\n",
       "      <th>vote_count</th>\n",
       "      <th>vote_average</th>\n",
       "      <th>weighted</th>\n",
       "    </tr>\n",
       "  </thead>\n",
       "  <tbody>\n",
       "    <tr>\n",
       "      <th>5481</th>\n",
       "      <td>千と千尋の神隠し</td>\n",
       "      <td>3968.0</td>\n",
       "      <td>8.3</td>\n",
       "      <td>7.531736</td>\n",
       "    </tr>\n",
       "    <tr>\n",
       "      <th>359</th>\n",
       "      <td>The Lion King</td>\n",
       "      <td>5520.0</td>\n",
       "      <td>8.0</td>\n",
       "      <td>7.464079</td>\n",
       "    </tr>\n",
       "    <tr>\n",
       "      <th>30315</th>\n",
       "      <td>Inside Out</td>\n",
       "      <td>6737.0</td>\n",
       "      <td>7.9</td>\n",
       "      <td>7.461417</td>\n",
       "    </tr>\n",
       "    <tr>\n",
       "      <th>13724</th>\n",
       "      <td>Up</td>\n",
       "      <td>7048.0</td>\n",
       "      <td>7.8</td>\n",
       "      <td>7.393597</td>\n",
       "    </tr>\n",
       "    <tr>\n",
       "      <th>12704</th>\n",
       "      <td>WALL·E</td>\n",
       "      <td>6439.0</td>\n",
       "      <td>7.8</td>\n",
       "      <td>7.361753</td>\n",
       "    </tr>\n",
       "  </tbody>\n",
       "</table>\n",
       "</div>"
      ],
      "text/plain": [
       "      original_title  vote_count  vote_average  weighted\n",
       "5481        千と千尋の神隠し      3968.0           8.3  7.531736\n",
       "359    The Lion King      5520.0           8.0  7.464079\n",
       "30315     Inside Out      6737.0           7.9  7.461417\n",
       "13724             Up      7048.0           7.8  7.393597\n",
       "12704         WALL·E      6439.0           7.8  7.361753"
      ]
     },
     "execution_count": 20,
     "metadata": {
      "tags": []
     },
     "output_type": "execute_result"
    }
   ],
   "source": [
    "genre_chart('Animation').head()"
   ]
  },
  {
   "cell_type": "markdown",
   "metadata": {
    "id": "xd_k_o8ZT1YE"
   },
   "source": [
    "## 1-2. 콘텐츠 기반 추천시스템① : Cosine Similarity"
   ]
  },
  {
   "cell_type": "markdown",
   "metadata": {
    "id": "6dhhyhwoT1YF"
   },
   "source": [
    "### 1-2-1. 데이터 전처리"
   ]
  },
  {
   "cell_type": "code",
   "execution_count": null,
   "metadata": {
    "id": "ffY-gGk3T1YF"
   },
   "outputs": [],
   "source": [
    "movies_2 = movies[['imdb_id', 'original_title', 'original_language', 'overview', 'runtime', 'vote_average', 'production_companies']]"
   ]
  },
  {
   "cell_type": "code",
   "execution_count": null,
   "metadata": {
    "id": "TUc5riOqT1YF",
    "outputId": "f96d867c-09f0-4878-f002-bc10ebb244c3",
    "scrolled": true
   },
   "outputs": [
    {
     "data": {
      "text/plain": [
       "imdb_id                  17\n",
       "original_title            0\n",
       "original_language        11\n",
       "overview                954\n",
       "runtime                 263\n",
       "vote_average              6\n",
       "production_companies      3\n",
       "dtype: int64"
      ]
     },
     "execution_count": 22,
     "metadata": {
      "tags": []
     },
     "output_type": "execute_result"
    }
   ],
   "source": [
    "movies_2.isnull().sum()"
   ]
  },
  {
   "cell_type": "code",
   "execution_count": null,
   "metadata": {
    "id": "Mebj0bzST1YF",
    "outputId": "a2ec0713-3f5e-43b0-957e-f630f2e6e6ee"
   },
   "outputs": [
    {
     "name": "stdout",
     "output_type": "stream",
     "text": [
      "Null 값 개수 : 0\n"
     ]
    }
   ],
   "source": [
    "movies_2 = movies_2.dropna()\n",
    "print('Null 값 개수 :', movies_2['overview'].isnull().sum())"
   ]
  },
  {
   "cell_type": "code",
   "execution_count": null,
   "metadata": {
    "id": "F1-HLK_vT1YF"
   },
   "outputs": [],
   "source": [
    "# remove outliers (+- 3 stdv from mean)\n",
    "movies_df = movies_2[np.abs(movies_2.runtime-movies_2.runtime.mean()) <= (3*movies_2.runtime.std())]"
   ]
  },
  {
   "cell_type": "code",
   "execution_count": null,
   "metadata": {
    "id": "lLx81tukT1YF"
   },
   "outputs": [],
   "source": [
    "movies_df = movies_df.reset_index(drop = True)"
   ]
  },
  {
   "cell_type": "code",
   "execution_count": null,
   "metadata": {
    "id": "yynwYNhMT1YF",
    "outputId": "2b1576b9-3b5a-4182-e6ed-38e2e70a196d"
   },
   "outputs": [
    {
     "data": {
      "text/html": [
       "<div>\n",
       "<style scoped>\n",
       "    .dataframe tbody tr th:only-of-type {\n",
       "        vertical-align: middle;\n",
       "    }\n",
       "\n",
       "    .dataframe tbody tr th {\n",
       "        vertical-align: top;\n",
       "    }\n",
       "\n",
       "    .dataframe thead th {\n",
       "        text-align: right;\n",
       "    }\n",
       "</style>\n",
       "<table border=\"1\" class=\"dataframe\">\n",
       "  <thead>\n",
       "    <tr style=\"text-align: right;\">\n",
       "      <th></th>\n",
       "      <th>runtime</th>\n",
       "      <th>vote_average</th>\n",
       "    </tr>\n",
       "  </thead>\n",
       "  <tbody>\n",
       "    <tr>\n",
       "      <th>count</th>\n",
       "      <td>44172.000000</td>\n",
       "      <td>44172.000000</td>\n",
       "    </tr>\n",
       "    <tr>\n",
       "      <th>mean</th>\n",
       "      <td>93.381305</td>\n",
       "      <td>5.633664</td>\n",
       "    </tr>\n",
       "    <tr>\n",
       "      <th>std</th>\n",
       "      <td>29.448439</td>\n",
       "      <td>1.891831</td>\n",
       "    </tr>\n",
       "    <tr>\n",
       "      <th>min</th>\n",
       "      <td>0.000000</td>\n",
       "      <td>0.000000</td>\n",
       "    </tr>\n",
       "    <tr>\n",
       "      <th>25%</th>\n",
       "      <td>85.000000</td>\n",
       "      <td>5.000000</td>\n",
       "    </tr>\n",
       "    <tr>\n",
       "      <th>50%</th>\n",
       "      <td>95.000000</td>\n",
       "      <td>6.000000</td>\n",
       "    </tr>\n",
       "    <tr>\n",
       "      <th>75%</th>\n",
       "      <td>106.000000</td>\n",
       "      <td>6.800000</td>\n",
       "    </tr>\n",
       "    <tr>\n",
       "      <th>max</th>\n",
       "      <td>207.000000</td>\n",
       "      <td>10.000000</td>\n",
       "    </tr>\n",
       "  </tbody>\n",
       "</table>\n",
       "</div>"
      ],
      "text/plain": [
       "            runtime  vote_average\n",
       "count  44172.000000  44172.000000\n",
       "mean      93.381305      5.633664\n",
       "std       29.448439      1.891831\n",
       "min        0.000000      0.000000\n",
       "25%       85.000000      5.000000\n",
       "50%       95.000000      6.000000\n",
       "75%      106.000000      6.800000\n",
       "max      207.000000     10.000000"
      ]
     },
     "execution_count": 26,
     "metadata": {
      "tags": []
     },
     "output_type": "execute_result"
    }
   ],
   "source": [
    "movies_df.describe()"
   ]
  },
  {
   "cell_type": "markdown",
   "metadata": {
    "id": "IQEfa-5iT1YG"
   },
   "source": [
    "### 1-2-2. 텍스트 데이터 분석 : overview"
   ]
  },
  {
   "cell_type": "code",
   "execution_count": null,
   "metadata": {
    "id": "HDPQkAnfT1YG"
   },
   "outputs": [],
   "source": [
    "from sklearn.feature_extraction.text import TfidfVectorizer\n",
    "\n",
    "corpus = movies_df.overview.tolist() # pd series to list\n",
    "\n",
    "vectorizer = TfidfVectorizer(stop_words='english', min_df=0.0005) # setting min_df (memory issue)\n",
    "\n",
    "tfidf = vectorizer.fit_transform(corpus).todense()\n",
    "\n",
    "tfidf_df = pd.DataFrame(tfidf)"
   ]
  },
  {
   "cell_type": "markdown",
   "metadata": {
    "id": "c7LQFeF3T1YG"
   },
   "source": [
    "### 1-2-3. Cosine Similarity"
   ]
  },
  {
   "cell_type": "code",
   "execution_count": null,
   "metadata": {
    "id": "keYmR0OVT1YG"
   },
   "outputs": [],
   "source": [
    "from sklearn.metrics.pairwise import cosine_similarity"
   ]
  },
  {
   "cell_type": "code",
   "execution_count": null,
   "metadata": {
    "id": "p3BT_BrHT1YH",
    "outputId": "690f510e-8d8f-4a92-e08f-8b4e93ef9a30"
   },
   "outputs": [
    {
     "name": "stdout",
     "output_type": "stream",
     "text": [
      "Similarity between Toy Story and Jumanji  :  [[0.01893468]]\n"
     ]
    }
   ],
   "source": [
    "# ex to see if the model works\n",
    "print(\"Similarity between\", movies_df.original_title[0], \"and\", movies_df.original_title[1], \" : \", cosine_similarity(tfidf[0], tfidf[1]))"
   ]
  },
  {
   "cell_type": "markdown",
   "metadata": {
    "id": "iV5EkGj0T1YH"
   },
   "source": [
    "### 1-2-4. 영화 추천"
   ]
  },
  {
   "cell_type": "code",
   "execution_count": null,
   "metadata": {
    "id": "WNbzaajWT1YH"
   },
   "outputs": [],
   "source": [
    "import random"
   ]
  },
  {
   "cell_type": "code",
   "execution_count": null,
   "metadata": {
    "id": "87yzBXSoT1YH"
   },
   "outputs": [],
   "source": [
    "dct = {}\n",
    "for i in range (1, len(tfidf)):\n",
    "    title = movies_df.original_title[i]\n",
    "    dct[title] = cosine_similarity(tfidf[0], tfidf[i])    "
   ]
  },
  {
   "cell_type": "code",
   "execution_count": null,
   "metadata": {
    "id": "KW0-ekAfT1YH",
    "outputId": "70c2fdaf-ee73-4704-a7b2-0bacb13945c4",
    "scrolled": false
   },
   "outputs": [
    {
     "data": {
      "text/plain": [
       "[('Toy Story 3', array([[0.50568711]])),\n",
       " ('Toy Story 2', array([[0.44204639]])),\n",
       " ('The 40 Year Old Virgin', array([[0.37867561]])),\n",
       " ('The Champ', array([[0.34972492]])),\n",
       " ('Superstar: The Life and Times of Andy Warhol', array([[0.3371542]]))]"
      ]
     },
     "execution_count": 32,
     "metadata": {
      "tags": []
     },
     "output_type": "execute_result"
    }
   ],
   "source": [
    "sorted(dct.items(), key = lambda x: x[1], reverse = True)[:5]"
   ]
  },
  {
   "cell_type": "markdown",
   "metadata": {
    "id": "Ydbj3HSeT1YH"
   },
   "source": [
    "## 1-3. 콘텐츠 기반 추천시스템②: TF-IDF(?)"
   ]
  },
  {
   "cell_type": "markdown",
   "metadata": {
    "id": "8klizQSIT1YI"
   },
   "source": [
    "## 1-4. 모델 기반 협업 추천시스템 : kNN "
   ]
  },
  {
   "cell_type": "code",
   "execution_count": null,
   "metadata": {
    "id": "7keNzGxST1YI"
   },
   "outputs": [],
   "source": []
  },
  {
   "cell_type": "code",
   "execution_count": null,
   "metadata": {
    "id": "5HLCAJgMT1YI"
   },
   "outputs": [],
   "source": []
  },
  {
   "cell_type": "code",
   "execution_count": null,
   "metadata": {
    "id": "pVo_tZkPT1YI"
   },
   "outputs": [],
   "source": []
  },
  {
   "cell_type": "code",
   "execution_count": null,
   "metadata": {
    "id": "Vo9qO0nHT1YI"
   },
   "outputs": [],
   "source": []
  },
  {
   "cell_type": "markdown",
   "metadata": {
    "id": "SEd4R7QzT1YI"
   },
   "source": [
    "# 2. 웹크롤링을 이용한 추천시스템 실습(?)\n",
    "\n",
    "--> 민수님 \"영화 포스터/이미지 불러오기\" "
   ]
  },
  {
   "cell_type": "markdown",
   "metadata": {
    "id": "hOA53uM8T1YI"
   },
   "source": [
    "# 3.프로젝트 리뷰"
   ]
  },
  {
   "cell_type": "code",
   "execution_count": null,
   "metadata": {
    "id": "ld7h2_2BT1YI"
   },
   "outputs": [],
   "source": [
    "# 2-1. \n",
    "\n",
    "# 딥러닝을 이용해서도 추천시스템을 만들 수 있으나 아는 바가 없어 못했다 --> 나중에 해보겠다\n",
    "\n",
    "# 1) Wide& Deep Learning  \n",
    "\n",
    "# 2) Factorization Machine\n",
    "\n",
    "\n",
    "\n",
    "\n",
    "# 2-2. 모델 간 차이 \n",
    "\n",
    "# 장르별 추천시스템은 평점이 높은 대중적인 영화를 추천해주나, 소비자 개개인의 니즈를 만족시키는 데 한계가 있음\n",
    "\n",
    "# 따라서 콘텐츠 기반 추천시스템이나 협업 기반 추천시스템을 통해 개인의 취향에 최적화된 콘텐츠를 추천하고자 하였음"
   ]
  },
  {
   "cell_type": "code",
   "execution_count": null,
   "metadata": {
    "id": "6qsqqFDiT1YI"
   },
   "outputs": [],
   "source": []
  }
 ],
 "metadata": {
  "colab": {
   "name": "mid project_박정재.ipynb",
   "provenance": []
  },
  "kernelspec": {
   "display_name": "Python 3",
   "language": "python",
   "name": "python3"
  },
  "language_info": {
   "codemirror_mode": {
    "name": "ipython",
    "version": 3
   },
   "file_extension": ".py",
   "mimetype": "text/x-python",
   "name": "python",
   "nbconvert_exporter": "python",
   "pygments_lexer": "ipython3",
   "version": "3.7.3"
  },
  "toc": {
   "base_numbering": 1,
   "nav_menu": {},
   "number_sections": true,
   "sideBar": true,
   "skip_h1_title": false,
   "title_cell": "Table of Contents",
   "title_sidebar": "Contents",
   "toc_cell": false,
   "toc_position": {},
   "toc_section_display": true,
   "toc_window_display": true
  }
 },
 "nbformat": 4,
 "nbformat_minor": 1
}
