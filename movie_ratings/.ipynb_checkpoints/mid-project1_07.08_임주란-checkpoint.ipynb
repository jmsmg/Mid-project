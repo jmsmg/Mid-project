{
 "cells": [
  {
   "cell_type": "markdown",
   "metadata": {
    "id": "FLJaJ6u7Vje7"
   },
   "source": [
    "# 영화 추천 서비스\n",
    "\n",
    "<br>\n",
    "\n",
    "https://www.kaggle.com/rounakbanik/the-movies-dataset"
   ]
  },
  {
   "cell_type": "code",
   "execution_count": null,
   "metadata": {
    "id": "3GQ4KfLRVje9"
   },
   "outputs": [],
   "source": [
    "import pandas as pd\n",
    "import numpy"
   ]
  },
  {
   "cell_type": "code",
   "execution_count": null,
   "metadata": {
    "id": "REltw-unVje9"
   },
   "outputs": [],
   "source": [
    "movies = pd.read_csv('data/movies.csv') # 영화 제목\n",
    "ratings = pd.read_csv('data/ratings_small.csv') # 영화에 대한 사용자별 별점 정보"
   ]
  },
  {
   "cell_type": "code",
   "execution_count": null,
   "metadata": {
    "id": "NEZ8-RjHVje-",
    "outputId": "c7a7820d-42b4-4b11-c98a-1bcfb8109867",
    "scrolled": true
   },
   "outputs": [
    {
     "data": {
      "text/html": [
       "<div>\n",
       "<style scoped>\n",
       "    .dataframe tbody tr th:only-of-type {\n",
       "        vertical-align: middle;\n",
       "    }\n",
       "\n",
       "    .dataframe tbody tr th {\n",
       "        vertical-align: top;\n",
       "    }\n",
       "\n",
       "    .dataframe thead th {\n",
       "        text-align: right;\n",
       "    }\n",
       "</style>\n",
       "<table border=\"1\" class=\"dataframe\">\n",
       "  <thead>\n",
       "    <tr style=\"text-align: right;\">\n",
       "      <th></th>\n",
       "      <th>movieId</th>\n",
       "      <th>title</th>\n",
       "      <th>genres</th>\n",
       "    </tr>\n",
       "  </thead>\n",
       "  <tbody>\n",
       "    <tr>\n",
       "      <th>0</th>\n",
       "      <td>1</td>\n",
       "      <td>Toy Story (1995)</td>\n",
       "      <td>Adventure|Animation|Children|Comedy|Fantasy</td>\n",
       "    </tr>\n",
       "    <tr>\n",
       "      <th>1</th>\n",
       "      <td>2</td>\n",
       "      <td>Jumanji (1995)</td>\n",
       "      <td>Adventure|Children|Fantasy</td>\n",
       "    </tr>\n",
       "    <tr>\n",
       "      <th>2</th>\n",
       "      <td>3</td>\n",
       "      <td>Grumpier Old Men (1995)</td>\n",
       "      <td>Comedy|Romance</td>\n",
       "    </tr>\n",
       "    <tr>\n",
       "      <th>3</th>\n",
       "      <td>4</td>\n",
       "      <td>Waiting to Exhale (1995)</td>\n",
       "      <td>Comedy|Drama|Romance</td>\n",
       "    </tr>\n",
       "    <tr>\n",
       "      <th>4</th>\n",
       "      <td>5</td>\n",
       "      <td>Father of the Bride Part II (1995)</td>\n",
       "      <td>Comedy</td>\n",
       "    </tr>\n",
       "  </tbody>\n",
       "</table>\n",
       "</div>"
      ],
      "text/plain": [
       "   movieId                               title  \\\n",
       "0        1                    Toy Story (1995)   \n",
       "1        2                      Jumanji (1995)   \n",
       "2        3             Grumpier Old Men (1995)   \n",
       "3        4            Waiting to Exhale (1995)   \n",
       "4        5  Father of the Bride Part II (1995)   \n",
       "\n",
       "                                        genres  \n",
       "0  Adventure|Animation|Children|Comedy|Fantasy  \n",
       "1                   Adventure|Children|Fantasy  \n",
       "2                               Comedy|Romance  \n",
       "3                         Comedy|Drama|Romance  \n",
       "4                                       Comedy  "
      ]
     },
     "execution_count": 54,
     "metadata": {
      "tags": []
     },
     "output_type": "execute_result"
    }
   ],
   "source": [
    "movies.head()"
   ]
  },
  {
   "cell_type": "code",
   "execution_count": null,
   "metadata": {
    "id": "cULS3OcxVje_",
    "outputId": "519e60d6-a30b-41c5-ebb3-c5f0b6312454"
   },
   "outputs": [
    {
     "data": {
      "text/html": [
       "<div>\n",
       "<style scoped>\n",
       "    .dataframe tbody tr th:only-of-type {\n",
       "        vertical-align: middle;\n",
       "    }\n",
       "\n",
       "    .dataframe tbody tr th {\n",
       "        vertical-align: top;\n",
       "    }\n",
       "\n",
       "    .dataframe thead th {\n",
       "        text-align: right;\n",
       "    }\n",
       "</style>\n",
       "<table border=\"1\" class=\"dataframe\">\n",
       "  <thead>\n",
       "    <tr style=\"text-align: right;\">\n",
       "      <th></th>\n",
       "      <th>userId</th>\n",
       "      <th>movieId</th>\n",
       "      <th>rating</th>\n",
       "      <th>timestamp</th>\n",
       "    </tr>\n",
       "  </thead>\n",
       "  <tbody>\n",
       "    <tr>\n",
       "      <th>0</th>\n",
       "      <td>1</td>\n",
       "      <td>31</td>\n",
       "      <td>2.5</td>\n",
       "      <td>1260759144</td>\n",
       "    </tr>\n",
       "    <tr>\n",
       "      <th>1</th>\n",
       "      <td>1</td>\n",
       "      <td>1029</td>\n",
       "      <td>3.0</td>\n",
       "      <td>1260759179</td>\n",
       "    </tr>\n",
       "    <tr>\n",
       "      <th>2</th>\n",
       "      <td>1</td>\n",
       "      <td>1061</td>\n",
       "      <td>3.0</td>\n",
       "      <td>1260759182</td>\n",
       "    </tr>\n",
       "    <tr>\n",
       "      <th>3</th>\n",
       "      <td>1</td>\n",
       "      <td>1129</td>\n",
       "      <td>2.0</td>\n",
       "      <td>1260759185</td>\n",
       "    </tr>\n",
       "    <tr>\n",
       "      <th>4</th>\n",
       "      <td>1</td>\n",
       "      <td>1172</td>\n",
       "      <td>4.0</td>\n",
       "      <td>1260759205</td>\n",
       "    </tr>\n",
       "  </tbody>\n",
       "</table>\n",
       "</div>"
      ],
      "text/plain": [
       "   userId  movieId  rating   timestamp\n",
       "0       1       31     2.5  1260759144\n",
       "1       1     1029     3.0  1260759179\n",
       "2       1     1061     3.0  1260759182\n",
       "3       1     1129     2.0  1260759185\n",
       "4       1     1172     4.0  1260759205"
      ]
     },
     "execution_count": 55,
     "metadata": {
      "tags": []
     },
     "output_type": "execute_result"
    }
   ],
   "source": [
    "ratings.head()"
   ]
  },
  {
   "cell_type": "code",
   "execution_count": null,
   "metadata": {
    "id": "oFPTTEHxVje_",
    "outputId": "112c47de-90ac-4afe-bf40-14fc05cef962"
   },
   "outputs": [
    {
     "data": {
      "text/plain": [
       "count    100004.000000\n",
       "mean          3.543608\n",
       "std           1.058064\n",
       "min           0.500000\n",
       "25%           3.000000\n",
       "50%           4.000000\n",
       "75%           4.000000\n",
       "max           5.000000\n",
       "Name: rating, dtype: float64"
      ]
     },
     "execution_count": 56,
     "metadata": {
      "tags": []
     },
     "output_type": "execute_result"
    }
   ],
   "source": [
    "# 별점 분포\n",
    "ratings.rating.describe()"
   ]
  },
  {
   "cell_type": "markdown",
   "metadata": {
    "id": "8jAYNUWGVje_"
   },
   "source": [
    "<br>\n",
    "\n",
    "## 비슷한 영화 취향의 사용자 기반 영화 추천\n",
    "\n",
    "#### 코사인 유사도\n",
    "- 사용자 간의 코사인 유사도"
   ]
  },
  {
   "cell_type": "code",
   "execution_count": null,
   "metadata": {
    "id": "8-BNXRYDVjfA"
   },
   "outputs": [],
   "source": [
    "df = pd.merge(ratings, movies, on='movieId')\n",
    "df_matrix_user = df.pivot_table(index='userId', columns='title', values='rating')"
   ]
  },
  {
   "cell_type": "code",
   "execution_count": null,
   "metadata": {
    "id": "PoJlwjSEVjfA"
   },
   "outputs": [],
   "source": [
    "# 결측치 0으로 채움\n",
    "df_matrix_user.fillna(0, inplace=True)"
   ]
  },
  {
   "cell_type": "code",
   "execution_count": null,
   "metadata": {
    "id": "kUOis36mVjfB"
   },
   "outputs": [],
   "source": [
    "# 코사인 유사도\n",
    "from sklearn.metrics.pairwise import cosine_similarity\n",
    "user_based = cosine_similarity(df_matrix_user)"
   ]
  },
  {
   "cell_type": "code",
   "execution_count": null,
   "metadata": {
    "id": "JAyt0MwIVjfB",
    "outputId": "59d850c7-0bdc-4b2c-ab39-11163aa98b77"
   },
   "outputs": [
    {
     "data": {
      "text/html": [
       "<div>\n",
       "<style scoped>\n",
       "    .dataframe tbody tr th:only-of-type {\n",
       "        vertical-align: middle;\n",
       "    }\n",
       "\n",
       "    .dataframe tbody tr th {\n",
       "        vertical-align: top;\n",
       "    }\n",
       "\n",
       "    .dataframe thead th {\n",
       "        text-align: right;\n",
       "    }\n",
       "</style>\n",
       "<table border=\"1\" class=\"dataframe\">\n",
       "  <thead>\n",
       "    <tr style=\"text-align: right;\">\n",
       "      <th>userId</th>\n",
       "      <th>1</th>\n",
       "      <th>2</th>\n",
       "      <th>3</th>\n",
       "      <th>4</th>\n",
       "      <th>5</th>\n",
       "      <th>6</th>\n",
       "      <th>7</th>\n",
       "      <th>8</th>\n",
       "      <th>9</th>\n",
       "      <th>10</th>\n",
       "      <th>...</th>\n",
       "      <th>662</th>\n",
       "      <th>663</th>\n",
       "      <th>664</th>\n",
       "      <th>665</th>\n",
       "      <th>666</th>\n",
       "      <th>667</th>\n",
       "      <th>668</th>\n",
       "      <th>669</th>\n",
       "      <th>670</th>\n",
       "      <th>671</th>\n",
       "    </tr>\n",
       "    <tr>\n",
       "      <th>userId</th>\n",
       "      <th></th>\n",
       "      <th></th>\n",
       "      <th></th>\n",
       "      <th></th>\n",
       "      <th></th>\n",
       "      <th></th>\n",
       "      <th></th>\n",
       "      <th></th>\n",
       "      <th></th>\n",
       "      <th></th>\n",
       "      <th></th>\n",
       "      <th></th>\n",
       "      <th></th>\n",
       "      <th></th>\n",
       "      <th></th>\n",
       "      <th></th>\n",
       "      <th></th>\n",
       "      <th></th>\n",
       "      <th></th>\n",
       "      <th></th>\n",
       "      <th></th>\n",
       "    </tr>\n",
       "  </thead>\n",
       "  <tbody>\n",
       "    <tr>\n",
       "      <th>1</th>\n",
       "      <td>1.000000</td>\n",
       "      <td>0.000000</td>\n",
       "      <td>0.000000</td>\n",
       "      <td>0.074482</td>\n",
       "      <td>0.016818</td>\n",
       "      <td>0.000000</td>\n",
       "      <td>0.083884</td>\n",
       "      <td>0.000000</td>\n",
       "      <td>0.012843</td>\n",
       "      <td>0.000000</td>\n",
       "      <td>...</td>\n",
       "      <td>0.000000</td>\n",
       "      <td>0.000000</td>\n",
       "      <td>0.014574</td>\n",
       "      <td>0.043719</td>\n",
       "      <td>0.000000</td>\n",
       "      <td>0.000000</td>\n",
       "      <td>0.000000</td>\n",
       "      <td>0.062917</td>\n",
       "      <td>0.000000</td>\n",
       "      <td>0.017466</td>\n",
       "    </tr>\n",
       "    <tr>\n",
       "      <th>2</th>\n",
       "      <td>0.000000</td>\n",
       "      <td>1.000000</td>\n",
       "      <td>0.124295</td>\n",
       "      <td>0.118821</td>\n",
       "      <td>0.103646</td>\n",
       "      <td>0.000000</td>\n",
       "      <td>0.212985</td>\n",
       "      <td>0.113190</td>\n",
       "      <td>0.113333</td>\n",
       "      <td>0.043213</td>\n",
       "      <td>...</td>\n",
       "      <td>0.477306</td>\n",
       "      <td>0.116373</td>\n",
       "      <td>0.078284</td>\n",
       "      <td>0.164162</td>\n",
       "      <td>0.466281</td>\n",
       "      <td>0.425462</td>\n",
       "      <td>0.084646</td>\n",
       "      <td>0.024140</td>\n",
       "      <td>0.170595</td>\n",
       "      <td>0.113175</td>\n",
       "    </tr>\n",
       "    <tr>\n",
       "      <th>3</th>\n",
       "      <td>0.000000</td>\n",
       "      <td>0.124295</td>\n",
       "      <td>1.000000</td>\n",
       "      <td>0.081640</td>\n",
       "      <td>0.151531</td>\n",
       "      <td>0.060691</td>\n",
       "      <td>0.154714</td>\n",
       "      <td>0.249781</td>\n",
       "      <td>0.134475</td>\n",
       "      <td>0.114672</td>\n",
       "      <td>...</td>\n",
       "      <td>0.161205</td>\n",
       "      <td>0.118207</td>\n",
       "      <td>0.177356</td>\n",
       "      <td>0.158357</td>\n",
       "      <td>0.177098</td>\n",
       "      <td>0.124562</td>\n",
       "      <td>0.124911</td>\n",
       "      <td>0.080984</td>\n",
       "      <td>0.136606</td>\n",
       "      <td>0.170193</td>\n",
       "    </tr>\n",
       "    <tr>\n",
       "      <th>4</th>\n",
       "      <td>0.074482</td>\n",
       "      <td>0.118821</td>\n",
       "      <td>0.081640</td>\n",
       "      <td>1.000000</td>\n",
       "      <td>0.130649</td>\n",
       "      <td>0.079648</td>\n",
       "      <td>0.319745</td>\n",
       "      <td>0.191013</td>\n",
       "      <td>0.030417</td>\n",
       "      <td>0.137186</td>\n",
       "      <td>...</td>\n",
       "      <td>0.114319</td>\n",
       "      <td>0.086959</td>\n",
       "      <td>0.137527</td>\n",
       "      <td>0.254030</td>\n",
       "      <td>0.121905</td>\n",
       "      <td>0.088735</td>\n",
       "      <td>0.068483</td>\n",
       "      <td>0.104309</td>\n",
       "      <td>0.054512</td>\n",
       "      <td>0.211609</td>\n",
       "    </tr>\n",
       "    <tr>\n",
       "      <th>5</th>\n",
       "      <td>0.016818</td>\n",
       "      <td>0.103646</td>\n",
       "      <td>0.151531</td>\n",
       "      <td>0.130649</td>\n",
       "      <td>1.000000</td>\n",
       "      <td>0.063796</td>\n",
       "      <td>0.095888</td>\n",
       "      <td>0.165712</td>\n",
       "      <td>0.086616</td>\n",
       "      <td>0.032370</td>\n",
       "      <td>...</td>\n",
       "      <td>0.191029</td>\n",
       "      <td>0.038929</td>\n",
       "      <td>0.147187</td>\n",
       "      <td>0.224245</td>\n",
       "      <td>0.139721</td>\n",
       "      <td>0.058252</td>\n",
       "      <td>0.042926</td>\n",
       "      <td>0.038358</td>\n",
       "      <td>0.062642</td>\n",
       "      <td>0.225086</td>\n",
       "    </tr>\n",
       "  </tbody>\n",
       "</table>\n",
       "<p>5 rows × 671 columns</p>\n",
       "</div>"
      ],
      "text/plain": [
       "userId       1         2         3         4         5         6         7    \\\n",
       "userId                                                                         \n",
       "1       1.000000  0.000000  0.000000  0.074482  0.016818  0.000000  0.083884   \n",
       "2       0.000000  1.000000  0.124295  0.118821  0.103646  0.000000  0.212985   \n",
       "3       0.000000  0.124295  1.000000  0.081640  0.151531  0.060691  0.154714   \n",
       "4       0.074482  0.118821  0.081640  1.000000  0.130649  0.079648  0.319745   \n",
       "5       0.016818  0.103646  0.151531  0.130649  1.000000  0.063796  0.095888   \n",
       "\n",
       "userId       8         9         10   ...       662       663       664  \\\n",
       "userId                                ...                                 \n",
       "1       0.000000  0.012843  0.000000  ...  0.000000  0.000000  0.014574   \n",
       "2       0.113190  0.113333  0.043213  ...  0.477306  0.116373  0.078284   \n",
       "3       0.249781  0.134475  0.114672  ...  0.161205  0.118207  0.177356   \n",
       "4       0.191013  0.030417  0.137186  ...  0.114319  0.086959  0.137527   \n",
       "5       0.165712  0.086616  0.032370  ...  0.191029  0.038929  0.147187   \n",
       "\n",
       "userId       665       666       667       668       669       670       671  \n",
       "userId                                                                        \n",
       "1       0.043719  0.000000  0.000000  0.000000  0.062917  0.000000  0.017466  \n",
       "2       0.164162  0.466281  0.425462  0.084646  0.024140  0.170595  0.113175  \n",
       "3       0.158357  0.177098  0.124562  0.124911  0.080984  0.136606  0.170193  \n",
       "4       0.254030  0.121905  0.088735  0.068483  0.104309  0.054512  0.211609  \n",
       "5       0.224245  0.139721  0.058252  0.042926  0.038358  0.062642  0.225086  \n",
       "\n",
       "[5 rows x 671 columns]"
      ]
     },
     "execution_count": 60,
     "metadata": {
      "tags": []
     },
     "output_type": "execute_result"
    }
   ],
   "source": [
    "# 데이터프레임화\n",
    "user_based = pd.DataFrame(data=user_based, index=df_matrix_user.index, columns=df_matrix_user.index)\n",
    "user_based.head()"
   ]
  },
  {
   "cell_type": "markdown",
   "metadata": {
    "id": "L7fo5B-aVjfB"
   },
   "source": [
    "<br>\n",
    "\n",
    "- 사용자 별점 기준 영화간의 코사인 유사도"
   ]
  },
  {
   "cell_type": "code",
   "execution_count": null,
   "metadata": {
    "id": "uZXEwK4QVjfB"
   },
   "outputs": [],
   "source": [
    "df = pd.merge(ratings, movies, on='movieId')\n",
    "df_matrix_movie = df.pivot_table(index='title', columns='userId', values='rating')"
   ]
  },
  {
   "cell_type": "code",
   "execution_count": null,
   "metadata": {
    "id": "8UzAt6IRVjfC"
   },
   "outputs": [],
   "source": [
    "# 결측치 0으로 채움\n",
    "df_matrix_movie.fillna(0, inplace=True)"
   ]
  },
  {
   "cell_type": "code",
   "execution_count": null,
   "metadata": {
    "id": "qAbrdtIdVjfC"
   },
   "outputs": [],
   "source": [
    "# 코사인 유사도\n",
    "movie_based = cosine_similarity(df_matrix_movie)"
   ]
  },
  {
   "cell_type": "code",
   "execution_count": null,
   "metadata": {
    "id": "5pj-7-VxVjfC",
    "outputId": "4dbcbc96-4a32-4d88-8f37-a484857c4979"
   },
   "outputs": [
    {
     "data": {
      "text/html": [
       "<div>\n",
       "<style scoped>\n",
       "    .dataframe tbody tr th:only-of-type {\n",
       "        vertical-align: middle;\n",
       "    }\n",
       "\n",
       "    .dataframe tbody tr th {\n",
       "        vertical-align: top;\n",
       "    }\n",
       "\n",
       "    .dataframe thead th {\n",
       "        text-align: right;\n",
       "    }\n",
       "</style>\n",
       "<table border=\"1\" class=\"dataframe\">\n",
       "  <thead>\n",
       "    <tr style=\"text-align: right;\">\n",
       "      <th>title</th>\n",
       "      <th>\"Great Performances\" Cats (1998)</th>\n",
       "      <th>$9.99 (2008)</th>\n",
       "      <th>'Hellboy': The Seeds of Creation (2004)</th>\n",
       "      <th>'Neath the Arizona Skies (1934)</th>\n",
       "      <th>'Round Midnight (1986)</th>\n",
       "      <th>'Salem's Lot (2004)</th>\n",
       "      <th>'Til There Was You (1997)</th>\n",
       "      <th>'burbs, The (1989)</th>\n",
       "      <th>'night Mother (1986)</th>\n",
       "      <th>(500) Days of Summer (2009)</th>\n",
       "      <th>...</th>\n",
       "      <th>Zorro, the Gay Blade (1981)</th>\n",
       "      <th>Zulu (1964)</th>\n",
       "      <th>Zulu (2013)</th>\n",
       "      <th>[REC] (2007)</th>\n",
       "      <th>eXistenZ (1999)</th>\n",
       "      <th>loudQUIETloud: A Film About the Pixies (2006)</th>\n",
       "      <th>xXx (2002)</th>\n",
       "      <th>xXx: State of the Union (2005)</th>\n",
       "      <th>¡Three Amigos! (1986)</th>\n",
       "      <th>À nous la liberté (Freedom for Us) (1931)</th>\n",
       "    </tr>\n",
       "    <tr>\n",
       "      <th>title</th>\n",
       "      <th></th>\n",
       "      <th></th>\n",
       "      <th></th>\n",
       "      <th></th>\n",
       "      <th></th>\n",
       "      <th></th>\n",
       "      <th></th>\n",
       "      <th></th>\n",
       "      <th></th>\n",
       "      <th></th>\n",
       "      <th></th>\n",
       "      <th></th>\n",
       "      <th></th>\n",
       "      <th></th>\n",
       "      <th></th>\n",
       "      <th></th>\n",
       "      <th></th>\n",
       "      <th></th>\n",
       "      <th></th>\n",
       "      <th></th>\n",
       "      <th></th>\n",
       "    </tr>\n",
       "  </thead>\n",
       "  <tbody>\n",
       "    <tr>\n",
       "      <th>\"Great Performances\" Cats (1998)</th>\n",
       "      <td>1.000000</td>\n",
       "      <td>0.0</td>\n",
       "      <td>0.0</td>\n",
       "      <td>0.164399</td>\n",
       "      <td>0.020391</td>\n",
       "      <td>0.0</td>\n",
       "      <td>0.014046</td>\n",
       "      <td>0.000000</td>\n",
       "      <td>0.0</td>\n",
       "      <td>0.003166</td>\n",
       "      <td>...</td>\n",
       "      <td>0.0</td>\n",
       "      <td>0.0</td>\n",
       "      <td>0.0</td>\n",
       "      <td>0.0</td>\n",
       "      <td>0.000000</td>\n",
       "      <td>0.0</td>\n",
       "      <td>0.000000</td>\n",
       "      <td>0.0</td>\n",
       "      <td>0.000000</td>\n",
       "      <td>0.0</td>\n",
       "    </tr>\n",
       "    <tr>\n",
       "      <th>$9.99 (2008)</th>\n",
       "      <td>0.000000</td>\n",
       "      <td>1.0</td>\n",
       "      <td>0.0</td>\n",
       "      <td>0.000000</td>\n",
       "      <td>0.000000</td>\n",
       "      <td>0.0</td>\n",
       "      <td>0.000000</td>\n",
       "      <td>0.079474</td>\n",
       "      <td>0.0</td>\n",
       "      <td>0.156330</td>\n",
       "      <td>...</td>\n",
       "      <td>0.0</td>\n",
       "      <td>0.0</td>\n",
       "      <td>0.0</td>\n",
       "      <td>0.0</td>\n",
       "      <td>0.000000</td>\n",
       "      <td>0.0</td>\n",
       "      <td>0.013899</td>\n",
       "      <td>0.0</td>\n",
       "      <td>0.058218</td>\n",
       "      <td>0.0</td>\n",
       "    </tr>\n",
       "    <tr>\n",
       "      <th>'Hellboy': The Seeds of Creation (2004)</th>\n",
       "      <td>0.000000</td>\n",
       "      <td>0.0</td>\n",
       "      <td>1.0</td>\n",
       "      <td>0.000000</td>\n",
       "      <td>0.000000</td>\n",
       "      <td>1.0</td>\n",
       "      <td>0.000000</td>\n",
       "      <td>0.217357</td>\n",
       "      <td>0.0</td>\n",
       "      <td>0.000000</td>\n",
       "      <td>...</td>\n",
       "      <td>0.0</td>\n",
       "      <td>0.0</td>\n",
       "      <td>0.0</td>\n",
       "      <td>0.0</td>\n",
       "      <td>0.000000</td>\n",
       "      <td>0.0</td>\n",
       "      <td>0.000000</td>\n",
       "      <td>0.0</td>\n",
       "      <td>0.000000</td>\n",
       "      <td>0.0</td>\n",
       "    </tr>\n",
       "    <tr>\n",
       "      <th>'Neath the Arizona Skies (1934)</th>\n",
       "      <td>0.164399</td>\n",
       "      <td>0.0</td>\n",
       "      <td>0.0</td>\n",
       "      <td>1.000000</td>\n",
       "      <td>0.124035</td>\n",
       "      <td>0.0</td>\n",
       "      <td>0.085436</td>\n",
       "      <td>0.000000</td>\n",
       "      <td>0.0</td>\n",
       "      <td>0.019259</td>\n",
       "      <td>...</td>\n",
       "      <td>0.0</td>\n",
       "      <td>0.0</td>\n",
       "      <td>0.0</td>\n",
       "      <td>0.0</td>\n",
       "      <td>0.000000</td>\n",
       "      <td>0.0</td>\n",
       "      <td>0.000000</td>\n",
       "      <td>0.0</td>\n",
       "      <td>0.000000</td>\n",
       "      <td>0.0</td>\n",
       "    </tr>\n",
       "    <tr>\n",
       "      <th>'Round Midnight (1986)</th>\n",
       "      <td>0.020391</td>\n",
       "      <td>0.0</td>\n",
       "      <td>0.0</td>\n",
       "      <td>0.124035</td>\n",
       "      <td>1.000000</td>\n",
       "      <td>0.0</td>\n",
       "      <td>0.010597</td>\n",
       "      <td>0.143786</td>\n",
       "      <td>0.0</td>\n",
       "      <td>0.136163</td>\n",
       "      <td>...</td>\n",
       "      <td>0.0</td>\n",
       "      <td>0.0</td>\n",
       "      <td>0.0</td>\n",
       "      <td>0.0</td>\n",
       "      <td>0.121567</td>\n",
       "      <td>0.0</td>\n",
       "      <td>0.000000</td>\n",
       "      <td>0.0</td>\n",
       "      <td>0.000000</td>\n",
       "      <td>0.0</td>\n",
       "    </tr>\n",
       "  </tbody>\n",
       "</table>\n",
       "<p>5 rows × 8792 columns</p>\n",
       "</div>"
      ],
      "text/plain": [
       "title                                    \"Great Performances\" Cats (1998)  \\\n",
       "title                                                                       \n",
       "\"Great Performances\" Cats (1998)                                 1.000000   \n",
       "$9.99 (2008)                                                     0.000000   \n",
       "'Hellboy': The Seeds of Creation (2004)                          0.000000   \n",
       "'Neath the Arizona Skies (1934)                                  0.164399   \n",
       "'Round Midnight (1986)                                           0.020391   \n",
       "\n",
       "title                                    $9.99 (2008)  \\\n",
       "title                                                   \n",
       "\"Great Performances\" Cats (1998)                  0.0   \n",
       "$9.99 (2008)                                      1.0   \n",
       "'Hellboy': The Seeds of Creation (2004)           0.0   \n",
       "'Neath the Arizona Skies (1934)                   0.0   \n",
       "'Round Midnight (1986)                            0.0   \n",
       "\n",
       "title                                    'Hellboy': The Seeds of Creation (2004)  \\\n",
       "title                                                                              \n",
       "\"Great Performances\" Cats (1998)                                             0.0   \n",
       "$9.99 (2008)                                                                 0.0   \n",
       "'Hellboy': The Seeds of Creation (2004)                                      1.0   \n",
       "'Neath the Arizona Skies (1934)                                              0.0   \n",
       "'Round Midnight (1986)                                                       0.0   \n",
       "\n",
       "title                                    'Neath the Arizona Skies (1934)  \\\n",
       "title                                                                      \n",
       "\"Great Performances\" Cats (1998)                                0.164399   \n",
       "$9.99 (2008)                                                    0.000000   \n",
       "'Hellboy': The Seeds of Creation (2004)                         0.000000   \n",
       "'Neath the Arizona Skies (1934)                                 1.000000   \n",
       "'Round Midnight (1986)                                          0.124035   \n",
       "\n",
       "title                                    'Round Midnight (1986)  \\\n",
       "title                                                             \n",
       "\"Great Performances\" Cats (1998)                       0.020391   \n",
       "$9.99 (2008)                                           0.000000   \n",
       "'Hellboy': The Seeds of Creation (2004)                0.000000   \n",
       "'Neath the Arizona Skies (1934)                        0.124035   \n",
       "'Round Midnight (1986)                                 1.000000   \n",
       "\n",
       "title                                    'Salem's Lot (2004)  \\\n",
       "title                                                          \n",
       "\"Great Performances\" Cats (1998)                         0.0   \n",
       "$9.99 (2008)                                             0.0   \n",
       "'Hellboy': The Seeds of Creation (2004)                  1.0   \n",
       "'Neath the Arizona Skies (1934)                          0.0   \n",
       "'Round Midnight (1986)                                   0.0   \n",
       "\n",
       "title                                    'Til There Was You (1997)  \\\n",
       "title                                                                \n",
       "\"Great Performances\" Cats (1998)                          0.014046   \n",
       "$9.99 (2008)                                              0.000000   \n",
       "'Hellboy': The Seeds of Creation (2004)                   0.000000   \n",
       "'Neath the Arizona Skies (1934)                           0.085436   \n",
       "'Round Midnight (1986)                                    0.010597   \n",
       "\n",
       "title                                    'burbs, The (1989)  \\\n",
       "title                                                         \n",
       "\"Great Performances\" Cats (1998)                   0.000000   \n",
       "$9.99 (2008)                                       0.079474   \n",
       "'Hellboy': The Seeds of Creation (2004)            0.217357   \n",
       "'Neath the Arizona Skies (1934)                    0.000000   \n",
       "'Round Midnight (1986)                             0.143786   \n",
       "\n",
       "title                                    'night Mother (1986)  \\\n",
       "title                                                           \n",
       "\"Great Performances\" Cats (1998)                          0.0   \n",
       "$9.99 (2008)                                              0.0   \n",
       "'Hellboy': The Seeds of Creation (2004)                   0.0   \n",
       "'Neath the Arizona Skies (1934)                           0.0   \n",
       "'Round Midnight (1986)                                    0.0   \n",
       "\n",
       "title                                    (500) Days of Summer (2009)  ...  \\\n",
       "title                                                                 ...   \n",
       "\"Great Performances\" Cats (1998)                            0.003166  ...   \n",
       "$9.99 (2008)                                                0.156330  ...   \n",
       "'Hellboy': The Seeds of Creation (2004)                     0.000000  ...   \n",
       "'Neath the Arizona Skies (1934)                             0.019259  ...   \n",
       "'Round Midnight (1986)                                      0.136163  ...   \n",
       "\n",
       "title                                    Zorro, the Gay Blade (1981)  \\\n",
       "title                                                                  \n",
       "\"Great Performances\" Cats (1998)                                 0.0   \n",
       "$9.99 (2008)                                                     0.0   \n",
       "'Hellboy': The Seeds of Creation (2004)                          0.0   \n",
       "'Neath the Arizona Skies (1934)                                  0.0   \n",
       "'Round Midnight (1986)                                           0.0   \n",
       "\n",
       "title                                    Zulu (1964)  Zulu (2013)  \\\n",
       "title                                                               \n",
       "\"Great Performances\" Cats (1998)                 0.0          0.0   \n",
       "$9.99 (2008)                                     0.0          0.0   \n",
       "'Hellboy': The Seeds of Creation (2004)          0.0          0.0   \n",
       "'Neath the Arizona Skies (1934)                  0.0          0.0   \n",
       "'Round Midnight (1986)                           0.0          0.0   \n",
       "\n",
       "title                                    [REC] (2007)  eXistenZ (1999)  \\\n",
       "title                                                                    \n",
       "\"Great Performances\" Cats (1998)                  0.0         0.000000   \n",
       "$9.99 (2008)                                      0.0         0.000000   \n",
       "'Hellboy': The Seeds of Creation (2004)           0.0         0.000000   \n",
       "'Neath the Arizona Skies (1934)                   0.0         0.000000   \n",
       "'Round Midnight (1986)                            0.0         0.121567   \n",
       "\n",
       "title                                    loudQUIETloud: A Film About the Pixies (2006)  \\\n",
       "title                                                                                    \n",
       "\"Great Performances\" Cats (1998)                                                   0.0   \n",
       "$9.99 (2008)                                                                       0.0   \n",
       "'Hellboy': The Seeds of Creation (2004)                                            0.0   \n",
       "'Neath the Arizona Skies (1934)                                                    0.0   \n",
       "'Round Midnight (1986)                                                             0.0   \n",
       "\n",
       "title                                    xXx (2002)  \\\n",
       "title                                                 \n",
       "\"Great Performances\" Cats (1998)           0.000000   \n",
       "$9.99 (2008)                               0.013899   \n",
       "'Hellboy': The Seeds of Creation (2004)    0.000000   \n",
       "'Neath the Arizona Skies (1934)            0.000000   \n",
       "'Round Midnight (1986)                     0.000000   \n",
       "\n",
       "title                                    xXx: State of the Union (2005)  \\\n",
       "title                                                                     \n",
       "\"Great Performances\" Cats (1998)                                    0.0   \n",
       "$9.99 (2008)                                                        0.0   \n",
       "'Hellboy': The Seeds of Creation (2004)                             0.0   \n",
       "'Neath the Arizona Skies (1934)                                     0.0   \n",
       "'Round Midnight (1986)                                              0.0   \n",
       "\n",
       "title                                    ¡Three Amigos! (1986)  \\\n",
       "title                                                            \n",
       "\"Great Performances\" Cats (1998)                      0.000000   \n",
       "$9.99 (2008)                                          0.058218   \n",
       "'Hellboy': The Seeds of Creation (2004)               0.000000   \n",
       "'Neath the Arizona Skies (1934)                       0.000000   \n",
       "'Round Midnight (1986)                                0.000000   \n",
       "\n",
       "title                                    À nous la liberté (Freedom for Us) (1931)  \n",
       "title                                                                               \n",
       "\"Great Performances\" Cats (1998)                                               0.0  \n",
       "$9.99 (2008)                                                                   0.0  \n",
       "'Hellboy': The Seeds of Creation (2004)                                        0.0  \n",
       "'Neath the Arizona Skies (1934)                                                0.0  \n",
       "'Round Midnight (1986)                                                         0.0  \n",
       "\n",
       "[5 rows x 8792 columns]"
      ]
     },
     "execution_count": 64,
     "metadata": {
      "tags": []
     },
     "output_type": "execute_result"
    }
   ],
   "source": [
    "movie_based = pd.DataFrame(data=movie_based, index=df_matrix_movie.index, columns=df_matrix_movie.index)\n",
    "movie_based.head()"
   ]
  },
  {
   "cell_type": "markdown",
   "metadata": {
    "id": "Rd1998DvVjfC"
   },
   "source": [
    "#### 사용자간 코사인 유사도 이용하여 영화 추천"
   ]
  },
  {
   "cell_type": "code",
   "execution_count": null,
   "metadata": {
    "id": "bz-rSF8-VjfC"
   },
   "outputs": [],
   "source": [
    "# 비슷한 평점을 매긴 사용자 상위 n명\n",
    "def get_similar_users(user, n):\n",
    "    return user_based[user].sort_values(ascending=False)[:n]"
   ]
  },
  {
   "cell_type": "code",
   "execution_count": null,
   "metadata": {
    "id": "HSrFndvUVjfD",
    "outputId": "20279287-fcb6-41ec-877d-15438bd84a56"
   },
   "outputs": [
    {
     "data": {
      "text/plain": [
       "userId\n",
       "18     1.000000\n",
       "70     0.660646\n",
       "284    0.643825\n",
       "256    0.640314\n",
       "Name: 18, dtype: float64"
      ]
     },
     "execution_count": 66,
     "metadata": {
      "tags": []
     },
     "output_type": "execute_result"
    }
   ],
   "source": [
    "get_similar_users(18, 4) # 자기 자신 포함"
   ]
  },
  {
   "cell_type": "code",
   "execution_count": null,
   "metadata": {
    "id": "57VC2LGwVjfD",
    "outputId": "7ce5d433-8269-426f-fce7-6d6f97b7cbcf"
   },
   "outputs": [
    {
     "data": {
      "text/html": [
       "<div>\n",
       "<style scoped>\n",
       "    .dataframe tbody tr th:only-of-type {\n",
       "        vertical-align: middle;\n",
       "    }\n",
       "\n",
       "    .dataframe tbody tr th {\n",
       "        vertical-align: top;\n",
       "    }\n",
       "\n",
       "    .dataframe thead th {\n",
       "        text-align: right;\n",
       "    }\n",
       "</style>\n",
       "<table border=\"1\" class=\"dataframe\">\n",
       "  <thead>\n",
       "    <tr style=\"text-align: right;\">\n",
       "      <th>userId</th>\n",
       "      <th>title</th>\n",
       "      <th>1</th>\n",
       "      <th>2</th>\n",
       "      <th>3</th>\n",
       "      <th>4</th>\n",
       "      <th>5</th>\n",
       "      <th>6</th>\n",
       "      <th>7</th>\n",
       "      <th>8</th>\n",
       "      <th>9</th>\n",
       "      <th>...</th>\n",
       "      <th>662</th>\n",
       "      <th>663</th>\n",
       "      <th>664</th>\n",
       "      <th>665</th>\n",
       "      <th>666</th>\n",
       "      <th>667</th>\n",
       "      <th>668</th>\n",
       "      <th>669</th>\n",
       "      <th>670</th>\n",
       "      <th>671</th>\n",
       "    </tr>\n",
       "  </thead>\n",
       "  <tbody>\n",
       "    <tr>\n",
       "      <th>0</th>\n",
       "      <td>\"Great Performances\" Cats (1998)</td>\n",
       "      <td>0.0</td>\n",
       "      <td>0.0</td>\n",
       "      <td>0.0</td>\n",
       "      <td>0.0</td>\n",
       "      <td>0.0</td>\n",
       "      <td>0.0</td>\n",
       "      <td>0.0</td>\n",
       "      <td>0.0</td>\n",
       "      <td>0.0</td>\n",
       "      <td>...</td>\n",
       "      <td>0.0</td>\n",
       "      <td>0.0</td>\n",
       "      <td>0.0</td>\n",
       "      <td>0.0</td>\n",
       "      <td>0.0</td>\n",
       "      <td>0.0</td>\n",
       "      <td>0.0</td>\n",
       "      <td>0.0</td>\n",
       "      <td>0.0</td>\n",
       "      <td>0.0</td>\n",
       "    </tr>\n",
       "    <tr>\n",
       "      <th>1</th>\n",
       "      <td>$9.99 (2008)</td>\n",
       "      <td>0.0</td>\n",
       "      <td>0.0</td>\n",
       "      <td>0.0</td>\n",
       "      <td>0.0</td>\n",
       "      <td>0.0</td>\n",
       "      <td>0.0</td>\n",
       "      <td>0.0</td>\n",
       "      <td>0.0</td>\n",
       "      <td>0.0</td>\n",
       "      <td>...</td>\n",
       "      <td>0.0</td>\n",
       "      <td>0.0</td>\n",
       "      <td>0.0</td>\n",
       "      <td>0.0</td>\n",
       "      <td>0.0</td>\n",
       "      <td>0.0</td>\n",
       "      <td>0.0</td>\n",
       "      <td>0.0</td>\n",
       "      <td>0.0</td>\n",
       "      <td>0.0</td>\n",
       "    </tr>\n",
       "    <tr>\n",
       "      <th>2</th>\n",
       "      <td>'Hellboy': The Seeds of Creation (2004)</td>\n",
       "      <td>0.0</td>\n",
       "      <td>0.0</td>\n",
       "      <td>0.0</td>\n",
       "      <td>0.0</td>\n",
       "      <td>0.0</td>\n",
       "      <td>0.0</td>\n",
       "      <td>0.0</td>\n",
       "      <td>0.0</td>\n",
       "      <td>0.0</td>\n",
       "      <td>...</td>\n",
       "      <td>0.0</td>\n",
       "      <td>0.0</td>\n",
       "      <td>0.0</td>\n",
       "      <td>0.0</td>\n",
       "      <td>0.0</td>\n",
       "      <td>0.0</td>\n",
       "      <td>0.0</td>\n",
       "      <td>0.0</td>\n",
       "      <td>0.0</td>\n",
       "      <td>0.0</td>\n",
       "    </tr>\n",
       "    <tr>\n",
       "      <th>3</th>\n",
       "      <td>'Neath the Arizona Skies (1934)</td>\n",
       "      <td>0.0</td>\n",
       "      <td>0.0</td>\n",
       "      <td>0.0</td>\n",
       "      <td>0.0</td>\n",
       "      <td>0.0</td>\n",
       "      <td>0.0</td>\n",
       "      <td>0.0</td>\n",
       "      <td>0.0</td>\n",
       "      <td>0.0</td>\n",
       "      <td>...</td>\n",
       "      <td>0.0</td>\n",
       "      <td>0.0</td>\n",
       "      <td>0.0</td>\n",
       "      <td>0.0</td>\n",
       "      <td>0.0</td>\n",
       "      <td>0.0</td>\n",
       "      <td>0.0</td>\n",
       "      <td>0.0</td>\n",
       "      <td>0.0</td>\n",
       "      <td>0.0</td>\n",
       "    </tr>\n",
       "    <tr>\n",
       "      <th>4</th>\n",
       "      <td>'Round Midnight (1986)</td>\n",
       "      <td>0.0</td>\n",
       "      <td>0.0</td>\n",
       "      <td>0.0</td>\n",
       "      <td>0.0</td>\n",
       "      <td>0.0</td>\n",
       "      <td>0.0</td>\n",
       "      <td>0.0</td>\n",
       "      <td>0.0</td>\n",
       "      <td>0.0</td>\n",
       "      <td>...</td>\n",
       "      <td>0.0</td>\n",
       "      <td>0.0</td>\n",
       "      <td>0.0</td>\n",
       "      <td>0.0</td>\n",
       "      <td>0.0</td>\n",
       "      <td>0.0</td>\n",
       "      <td>0.0</td>\n",
       "      <td>0.0</td>\n",
       "      <td>0.0</td>\n",
       "      <td>0.0</td>\n",
       "    </tr>\n",
       "  </tbody>\n",
       "</table>\n",
       "<p>5 rows × 672 columns</p>\n",
       "</div>"
      ],
      "text/plain": [
       "userId                                    title    1    2    3    4    5    6  \\\n",
       "0              \"Great Performances\" Cats (1998)  0.0  0.0  0.0  0.0  0.0  0.0   \n",
       "1                                  $9.99 (2008)  0.0  0.0  0.0  0.0  0.0  0.0   \n",
       "2       'Hellboy': The Seeds of Creation (2004)  0.0  0.0  0.0  0.0  0.0  0.0   \n",
       "3               'Neath the Arizona Skies (1934)  0.0  0.0  0.0  0.0  0.0  0.0   \n",
       "4                        'Round Midnight (1986)  0.0  0.0  0.0  0.0  0.0  0.0   \n",
       "\n",
       "userId    7    8    9  ...  662  663  664  665  666  667  668  669  670  671  \n",
       "0       0.0  0.0  0.0  ...  0.0  0.0  0.0  0.0  0.0  0.0  0.0  0.0  0.0  0.0  \n",
       "1       0.0  0.0  0.0  ...  0.0  0.0  0.0  0.0  0.0  0.0  0.0  0.0  0.0  0.0  \n",
       "2       0.0  0.0  0.0  ...  0.0  0.0  0.0  0.0  0.0  0.0  0.0  0.0  0.0  0.0  \n",
       "3       0.0  0.0  0.0  ...  0.0  0.0  0.0  0.0  0.0  0.0  0.0  0.0  0.0  0.0  \n",
       "4       0.0  0.0  0.0  ...  0.0  0.0  0.0  0.0  0.0  0.0  0.0  0.0  0.0  0.0  \n",
       "\n",
       "[5 rows x 672 columns]"
      ]
     },
     "execution_count": 67,
     "metadata": {
      "tags": []
     },
     "output_type": "execute_result"
    }
   ],
   "source": [
    "# 사용자간의 별점 비교와 정렬을 위해 reset index\n",
    "df_matrix_movie_2 = df_matrix_movie.reset_index()\n",
    "df_matrix_movie_2.head()"
   ]
  },
  {
   "cell_type": "code",
   "execution_count": null,
   "metadata": {
    "id": "R9F2qZXDVjfD",
    "outputId": "ac3cc64f-86ef-44c3-8647-5fa906a2fafd"
   },
   "outputs": [
    {
     "data": {
      "text/html": [
       "<div>\n",
       "<style scoped>\n",
       "    .dataframe tbody tr th:only-of-type {\n",
       "        vertical-align: middle;\n",
       "    }\n",
       "\n",
       "    .dataframe tbody tr th {\n",
       "        vertical-align: top;\n",
       "    }\n",
       "\n",
       "    .dataframe thead th {\n",
       "        text-align: right;\n",
       "    }\n",
       "</style>\n",
       "<table border=\"1\" class=\"dataframe\">\n",
       "  <thead>\n",
       "    <tr style=\"text-align: right;\">\n",
       "      <th>userId</th>\n",
       "      <th>title</th>\n",
       "      <th>1</th>\n",
       "    </tr>\n",
       "  </thead>\n",
       "  <tbody>\n",
       "    <tr>\n",
       "      <th>1593</th>\n",
       "      <td>Cinema Paradiso (Nuovo cinema Paradiso) (1989)</td>\n",
       "      <td>4.0</td>\n",
       "    </tr>\n",
       "    <tr>\n",
       "      <th>8056</th>\n",
       "      <td>Tron (1982)</td>\n",
       "      <td>4.0</td>\n",
       "    </tr>\n",
       "    <tr>\n",
       "      <th>2926</th>\n",
       "      <td>French Connection, The (1971)</td>\n",
       "      <td>4.0</td>\n",
       "    </tr>\n",
       "    <tr>\n",
       "      <th>2275</th>\n",
       "      <td>Dracula (Bram Stoker's Dracula) (1992)</td>\n",
       "      <td>3.5</td>\n",
       "    </tr>\n",
       "    <tr>\n",
       "      <th>7090</th>\n",
       "      <td>Sleepers (1996)</td>\n",
       "      <td>3.0</td>\n",
       "    </tr>\n",
       "  </tbody>\n",
       "</table>\n",
       "</div>"
      ],
      "text/plain": [
       "userId                                           title    1\n",
       "1593    Cinema Paradiso (Nuovo cinema Paradiso) (1989)  4.0\n",
       "8056                                       Tron (1982)  4.0\n",
       "2926                     French Connection, The (1971)  4.0\n",
       "2275            Dracula (Bram Stoker's Dracula) (1992)  3.5\n",
       "7090                                   Sleepers (1996)  3.0"
      ]
     },
     "execution_count": 68,
     "metadata": {
      "tags": []
     },
     "output_type": "execute_result"
    }
   ],
   "source": [
    "# 사용자1의 평점 높은 영화 5개\n",
    "df_matrix_movie_2[['title', 1]].sort_values(1, ascending=False).head() "
   ]
  },
  {
   "cell_type": "code",
   "execution_count": null,
   "metadata": {
    "id": "XzIBht5QVjfD",
    "outputId": "203f08ce-185f-4874-f500-6e4d1c86be12"
   },
   "outputs": [
    {
     "data": {
      "text/html": [
       "<div>\n",
       "<style scoped>\n",
       "    .dataframe tbody tr th:only-of-type {\n",
       "        vertical-align: middle;\n",
       "    }\n",
       "\n",
       "    .dataframe tbody tr th {\n",
       "        vertical-align: top;\n",
       "    }\n",
       "\n",
       "    .dataframe thead th {\n",
       "        text-align: right;\n",
       "    }\n",
       "</style>\n",
       "<table border=\"1\" class=\"dataframe\">\n",
       "  <thead>\n",
       "    <tr style=\"text-align: right;\">\n",
       "      <th>userId</th>\n",
       "      <th>title</th>\n",
       "      <th>1</th>\n",
       "    </tr>\n",
       "  </thead>\n",
       "  <tbody>\n",
       "    <tr>\n",
       "      <th>0</th>\n",
       "      <td>\"Great Performances\" Cats (1998)</td>\n",
       "      <td>0.0</td>\n",
       "    </tr>\n",
       "    <tr>\n",
       "      <th>1</th>\n",
       "      <td>$9.99 (2008)</td>\n",
       "      <td>0.0</td>\n",
       "    </tr>\n",
       "    <tr>\n",
       "      <th>2</th>\n",
       "      <td>'Hellboy': The Seeds of Creation (2004)</td>\n",
       "      <td>0.0</td>\n",
       "    </tr>\n",
       "    <tr>\n",
       "      <th>3</th>\n",
       "      <td>'Neath the Arizona Skies (1934)</td>\n",
       "      <td>0.0</td>\n",
       "    </tr>\n",
       "    <tr>\n",
       "      <th>4</th>\n",
       "      <td>'Round Midnight (1986)</td>\n",
       "      <td>0.0</td>\n",
       "    </tr>\n",
       "  </tbody>\n",
       "</table>\n",
       "</div>"
      ],
      "text/plain": [
       "userId                                    title    1\n",
       "0              \"Great Performances\" Cats (1998)  0.0\n",
       "1                                  $9.99 (2008)  0.0\n",
       "2       'Hellboy': The Seeds of Creation (2004)  0.0\n",
       "3               'Neath the Arizona Skies (1934)  0.0\n",
       "4                        'Round Midnight (1986)  0.0"
      ]
     },
     "execution_count": 69,
     "metadata": {
      "tags": []
     },
     "output_type": "execute_result"
    }
   ],
   "source": [
    "# 추천을 원하는 사용자가 안 본 영화\n",
    "df_matrix_movie_2[df_matrix_movie_2[1]==0][['title', 1]].head()"
   ]
  },
  {
   "cell_type": "code",
   "execution_count": null,
   "metadata": {
    "id": "foLpC443VjfE"
   },
   "outputs": [],
   "source": [
    "# 사용자가 이미 본 영화 제거\n",
    "def del_watched_movie(user, n):\n",
    "  # user 추천을 원하는 사용자 / n 유사도가 높은 사용자\n",
    "  return df_matrix_movie_2[df_matrix_movie_2[user]==0][['title', user, n]]"
   ]
  },
  {
   "cell_type": "code",
   "execution_count": null,
   "metadata": {
    "id": "DfiTHbH0VjfE",
    "outputId": "180e8341-73ab-4288-9221-8ef7eeb73c75"
   },
   "outputs": [
    {
     "data": {
      "text/html": [
       "<div>\n",
       "<style scoped>\n",
       "    .dataframe tbody tr th:only-of-type {\n",
       "        vertical-align: middle;\n",
       "    }\n",
       "\n",
       "    .dataframe tbody tr th {\n",
       "        vertical-align: top;\n",
       "    }\n",
       "\n",
       "    .dataframe thead th {\n",
       "        text-align: right;\n",
       "    }\n",
       "</style>\n",
       "<table border=\"1\" class=\"dataframe\">\n",
       "  <thead>\n",
       "    <tr style=\"text-align: right;\">\n",
       "      <th>userId</th>\n",
       "      <th>title</th>\n",
       "      <th>1</th>\n",
       "      <th>2</th>\n",
       "    </tr>\n",
       "  </thead>\n",
       "  <tbody>\n",
       "    <tr>\n",
       "      <th>6847</th>\n",
       "      <td>Sense and Sensibility (1995)</td>\n",
       "      <td>0.0</td>\n",
       "      <td>5.0</td>\n",
       "    </tr>\n",
       "    <tr>\n",
       "      <th>1663</th>\n",
       "      <td>Clueless (1995)</td>\n",
       "      <td>0.0</td>\n",
       "      <td>5.0</td>\n",
       "    </tr>\n",
       "    <tr>\n",
       "      <th>1163</th>\n",
       "      <td>Brady Bunch Movie, The (1995)</td>\n",
       "      <td>0.0</td>\n",
       "      <td>5.0</td>\n",
       "    </tr>\n",
       "    <tr>\n",
       "      <th>1922</th>\n",
       "      <td>Dances with Wolves (1990)</td>\n",
       "      <td>0.0</td>\n",
       "      <td>5.0</td>\n",
       "    </tr>\n",
       "    <tr>\n",
       "      <th>7687</th>\n",
       "      <td>Terminator 2: Judgment Day (1991)</td>\n",
       "      <td>0.0</td>\n",
       "      <td>5.0</td>\n",
       "    </tr>\n",
       "  </tbody>\n",
       "</table>\n",
       "</div>"
      ],
      "text/plain": [
       "userId                              title    1    2\n",
       "6847         Sense and Sensibility (1995)  0.0  5.0\n",
       "1663                      Clueless (1995)  0.0  5.0\n",
       "1163        Brady Bunch Movie, The (1995)  0.0  5.0\n",
       "1922            Dances with Wolves (1990)  0.0  5.0\n",
       "7687    Terminator 2: Judgment Day (1991)  0.0  5.0"
      ]
     },
     "execution_count": 71,
     "metadata": {
      "tags": []
     },
     "output_type": "execute_result"
    }
   ],
   "source": [
    "del_watched_movie(1, 2).sort_values(2, ascending=False).head()"
   ]
  },
  {
   "cell_type": "code",
   "execution_count": null,
   "metadata": {
    "id": "UoWkrp2zVjfE"
   },
   "outputs": [],
   "source": [
    "def recommend_movie_by_user(user):\n",
    "    \n",
    "    # 자기 자신 제외 유사도 높은 사용자\n",
    "    users = get_similar_users(user, 4).index[1:4] \n",
    "    \n",
    "    rcmd_movies = []\n",
    "    for i in users:\n",
    "        # print(i)\n",
    "        movie_list = list(del_watched_movie(user, i).sort_values(i, ascending=False).title[:5])\n",
    "        # print(movie_list)\n",
    "        rcmd_movies.append(movie_list)\n",
    "\n",
    "    return rcmd_movies"
   ]
  },
  {
   "cell_type": "code",
   "execution_count": null,
   "metadata": {
    "id": "wa_kR-uYVjfE",
    "outputId": "648aa3f9-89cd-470b-b59f-3833f387b526"
   },
   "outputs": [
    {
     "data": {
      "text/plain": [
       "[['Green Mile, The (1999)',\n",
       "  'Pianist, The (2002)',\n",
       "  'Donnie Darko (2001)',\n",
       "  'Big Lebowski, The (1998)',\n",
       "  'Lives of Others, The (Das leben der Anderen) (2006)'],\n",
       " ['Lion King, The (1994)',\n",
       "  'Toy Story (1995)',\n",
       "  'Star Wars: Episode IV - A New Hope (1977)',\n",
       "  'Shrek (2001)',\n",
       "  'Incredibles, The (2004)'],\n",
       " ['Crimson Tide (1995)',\n",
       "  'Rob Roy (1995)',\n",
       "  'Jurassic Park (1993)',\n",
       "  'Clear and Present Danger (1994)',\n",
       "  'Outbreak (1995)']]"
      ]
     },
     "execution_count": 73,
     "metadata": {
      "tags": []
     },
     "output_type": "execute_result"
    }
   ],
   "source": [
    "recommend_movie_by_user(3)"
   ]
  },
  {
   "cell_type": "code",
   "execution_count": null,
   "metadata": {
    "id": "2mS03PpqVjfE",
    "outputId": "ef74cf7a-43c2-4857-86a7-b61d4ea2b84b"
   },
   "outputs": [
    {
     "name": "stdout",
     "output_type": "stream",
     "text": [
      "추천을 원하는 사용자 번호를 입력하세요: 5\n"
     ]
    },
    {
     "data": {
      "text/plain": [
       "[['Shawshank Redemption, The (1994)',\n",
       "  'Ice Age (2002)',\n",
       "  'Seabiscuit (2003)',\n",
       "  'Prince of Egypt, The (1998)',\n",
       "  \"Schindler's List (1993)\"],\n",
       " ['Kiss Kiss Bang Bang (2005)',\n",
       "  'Pride and Prejudice (1995)',\n",
       "  'Life Is Beautiful (La Vita è bella) (1997)',\n",
       "  'Wedding Date, The (2005)',\n",
       "  'Accepted (2006)'],\n",
       " ['To Kill a Mockingbird (1962)',\n",
       "  'Sandlot, The (1993)',\n",
       "  'Pulp Fiction (1994)',\n",
       "  'Edward Scissorhands (1990)',\n",
       "  'Usual Suspects, The (1995)']]"
      ]
     },
     "execution_count": 74,
     "metadata": {
      "tags": []
     },
     "output_type": "execute_result"
    }
   ],
   "source": [
    "user_num = int(input('추천을 원하는 사용자 번호를 입력하세요: '))\n",
    "recommend_movie_by_user(user_num)"
   ]
  },
  {
   "cell_type": "markdown",
   "metadata": {
    "id": "x2tGVfEkVqDJ"
   },
   "source": []
  },
  {
   "cell_type": "markdown",
   "metadata": {
    "id": "EpnXp1jcVjfE"
   },
   "source": [
    "<br>\n",
    "\n",
    "#### ++) 영화간 코사인 유사도 이용하여 영화 추천"
   ]
  },
  {
   "cell_type": "code",
   "execution_count": null,
   "metadata": {
    "id": "FpA2yZ-TVjfF"
   },
   "outputs": [],
   "source": [
    "def recommend_movie_by_rating(title):\n",
    "    return movie_based[title].sort_values(ascending=False)[:5]"
   ]
  },
  {
   "cell_type": "code",
   "execution_count": null,
   "metadata": {
    "id": "aK9AYEExVjfF",
    "outputId": "1c9c1852-17c0-4e89-b2c4-23f240688e8a"
   },
   "outputs": [
    {
     "data": {
      "text/plain": [
       "title\n",
       "Godfather, The (1972)                     1.000000\n",
       "Godfather: Part II, The (1974)            0.773685\n",
       "Goodfellas (1990)                         0.620349\n",
       "One Flew Over the Cuckoo's Nest (1975)    0.568244\n",
       "American Beauty (1999)                    0.557997\n",
       "Name: Godfather, The (1972), dtype: float64"
      ]
     },
     "execution_count": 76,
     "metadata": {
      "tags": []
     },
     "output_type": "execute_result"
    }
   ],
   "source": [
    "recommend_movie_by_rating('Godfather, The (1972)')"
   ]
  },
  {
   "cell_type": "markdown",
   "metadata": {
    "id": "ub7Ts5j3VjfF"
   },
   "source": [
    "<br>\n",
    "\n",
    "## 줄거리 기반 영화 분석 및 추천"
   ]
  },
  {
   "cell_type": "markdown",
   "metadata": {
    "id": "JKq4lpG1VjfF"
   },
   "source": [
    "#### 데이터 전처리"
   ]
  },
  {
   "cell_type": "code",
   "execution_count": null,
   "metadata": {
    "id": "Lmp2A8JvVjfF"
   },
   "outputs": [],
   "source": [
    "import pandas as pd\n",
    "import matplotlib.pyplot as plt\n",
    "import seaborn as sns\n",
    "import numpy as np"
   ]
  },
  {
   "cell_type": "code",
   "execution_count": null,
   "metadata": {
    "id": "osoo9EmcVjfF",
    "outputId": "4404e1e4-1db7-4027-eae5-4205b4f5bba7"
   },
   "outputs": [
    {
     "data": {
      "text/html": [
       "<div>\n",
       "<style scoped>\n",
       "    .dataframe tbody tr th:only-of-type {\n",
       "        vertical-align: middle;\n",
       "    }\n",
       "\n",
       "    .dataframe tbody tr th {\n",
       "        vertical-align: top;\n",
       "    }\n",
       "\n",
       "    .dataframe thead th {\n",
       "        text-align: right;\n",
       "    }\n",
       "</style>\n",
       "<table border=\"1\" class=\"dataframe\">\n",
       "  <thead>\n",
       "    <tr style=\"text-align: right;\">\n",
       "      <th></th>\n",
       "      <th>adult</th>\n",
       "      <th>belongs_to_collection</th>\n",
       "      <th>budget</th>\n",
       "      <th>genres</th>\n",
       "      <th>homepage</th>\n",
       "      <th>id</th>\n",
       "      <th>imdb_id</th>\n",
       "      <th>original_language</th>\n",
       "      <th>original_title</th>\n",
       "      <th>overview</th>\n",
       "      <th>...</th>\n",
       "      <th>release_date</th>\n",
       "      <th>revenue</th>\n",
       "      <th>runtime</th>\n",
       "      <th>spoken_languages</th>\n",
       "      <th>status</th>\n",
       "      <th>tagline</th>\n",
       "      <th>title</th>\n",
       "      <th>video</th>\n",
       "      <th>vote_average</th>\n",
       "      <th>vote_count</th>\n",
       "    </tr>\n",
       "  </thead>\n",
       "  <tbody>\n",
       "    <tr>\n",
       "      <th>0</th>\n",
       "      <td>False</td>\n",
       "      <td>{'id': 10194, 'name': 'Toy Story Collection', ...</td>\n",
       "      <td>30000000</td>\n",
       "      <td>[{'id': 16, 'name': 'Animation'}, {'id': 35, '...</td>\n",
       "      <td>http://toystory.disney.com/toy-story</td>\n",
       "      <td>862</td>\n",
       "      <td>tt0114709</td>\n",
       "      <td>en</td>\n",
       "      <td>Toy Story</td>\n",
       "      <td>Led by Woody, Andy's toys live happily in his ...</td>\n",
       "      <td>...</td>\n",
       "      <td>1995-10-30</td>\n",
       "      <td>373554033.0</td>\n",
       "      <td>81.0</td>\n",
       "      <td>[{'iso_639_1': 'en', 'name': 'English'}]</td>\n",
       "      <td>Released</td>\n",
       "      <td>NaN</td>\n",
       "      <td>Toy Story</td>\n",
       "      <td>False</td>\n",
       "      <td>7.7</td>\n",
       "      <td>5415.0</td>\n",
       "    </tr>\n",
       "    <tr>\n",
       "      <th>1</th>\n",
       "      <td>False</td>\n",
       "      <td>NaN</td>\n",
       "      <td>65000000</td>\n",
       "      <td>[{'id': 12, 'name': 'Adventure'}, {'id': 14, '...</td>\n",
       "      <td>NaN</td>\n",
       "      <td>8844</td>\n",
       "      <td>tt0113497</td>\n",
       "      <td>en</td>\n",
       "      <td>Jumanji</td>\n",
       "      <td>When siblings Judy and Peter discover an encha...</td>\n",
       "      <td>...</td>\n",
       "      <td>1995-12-15</td>\n",
       "      <td>262797249.0</td>\n",
       "      <td>104.0</td>\n",
       "      <td>[{'iso_639_1': 'en', 'name': 'English'}, {'iso...</td>\n",
       "      <td>Released</td>\n",
       "      <td>Roll the dice and unleash the excitement!</td>\n",
       "      <td>Jumanji</td>\n",
       "      <td>False</td>\n",
       "      <td>6.9</td>\n",
       "      <td>2413.0</td>\n",
       "    </tr>\n",
       "    <tr>\n",
       "      <th>2</th>\n",
       "      <td>False</td>\n",
       "      <td>{'id': 119050, 'name': 'Grumpy Old Men Collect...</td>\n",
       "      <td>0</td>\n",
       "      <td>[{'id': 10749, 'name': 'Romance'}, {'id': 35, ...</td>\n",
       "      <td>NaN</td>\n",
       "      <td>15602</td>\n",
       "      <td>tt0113228</td>\n",
       "      <td>en</td>\n",
       "      <td>Grumpier Old Men</td>\n",
       "      <td>A family wedding reignites the ancient feud be...</td>\n",
       "      <td>...</td>\n",
       "      <td>1995-12-22</td>\n",
       "      <td>0.0</td>\n",
       "      <td>101.0</td>\n",
       "      <td>[{'iso_639_1': 'en', 'name': 'English'}]</td>\n",
       "      <td>Released</td>\n",
       "      <td>Still Yelling. Still Fighting. Still Ready for...</td>\n",
       "      <td>Grumpier Old Men</td>\n",
       "      <td>False</td>\n",
       "      <td>6.5</td>\n",
       "      <td>92.0</td>\n",
       "    </tr>\n",
       "  </tbody>\n",
       "</table>\n",
       "<p>3 rows × 24 columns</p>\n",
       "</div>"
      ],
      "text/plain": [
       "   adult                              belongs_to_collection    budget  \\\n",
       "0  False  {'id': 10194, 'name': 'Toy Story Collection', ...  30000000   \n",
       "1  False                                                NaN  65000000   \n",
       "2  False  {'id': 119050, 'name': 'Grumpy Old Men Collect...         0   \n",
       "\n",
       "                                              genres  \\\n",
       "0  [{'id': 16, 'name': 'Animation'}, {'id': 35, '...   \n",
       "1  [{'id': 12, 'name': 'Adventure'}, {'id': 14, '...   \n",
       "2  [{'id': 10749, 'name': 'Romance'}, {'id': 35, ...   \n",
       "\n",
       "                               homepage     id    imdb_id original_language  \\\n",
       "0  http://toystory.disney.com/toy-story    862  tt0114709                en   \n",
       "1                                   NaN   8844  tt0113497                en   \n",
       "2                                   NaN  15602  tt0113228                en   \n",
       "\n",
       "     original_title                                           overview  ...  \\\n",
       "0         Toy Story  Led by Woody, Andy's toys live happily in his ...  ...   \n",
       "1           Jumanji  When siblings Judy and Peter discover an encha...  ...   \n",
       "2  Grumpier Old Men  A family wedding reignites the ancient feud be...  ...   \n",
       "\n",
       "  release_date      revenue runtime  \\\n",
       "0   1995-10-30  373554033.0    81.0   \n",
       "1   1995-12-15  262797249.0   104.0   \n",
       "2   1995-12-22          0.0   101.0   \n",
       "\n",
       "                                    spoken_languages    status  \\\n",
       "0           [{'iso_639_1': 'en', 'name': 'English'}]  Released   \n",
       "1  [{'iso_639_1': 'en', 'name': 'English'}, {'iso...  Released   \n",
       "2           [{'iso_639_1': 'en', 'name': 'English'}]  Released   \n",
       "\n",
       "                                             tagline             title  video  \\\n",
       "0                                                NaN         Toy Story  False   \n",
       "1          Roll the dice and unleash the excitement!           Jumanji  False   \n",
       "2  Still Yelling. Still Fighting. Still Ready for...  Grumpier Old Men  False   \n",
       "\n",
       "  vote_average vote_count  \n",
       "0          7.7     5415.0  \n",
       "1          6.9     2413.0  \n",
       "2          6.5       92.0  \n",
       "\n",
       "[3 rows x 24 columns]"
      ]
     },
     "execution_count": 104,
     "metadata": {
      "tags": []
     },
     "output_type": "execute_result"
    }
   ],
   "source": [
    "# 영화 줄거리, 평균 별점\n",
    "movies_meta = pd.read_csv('data/movies_metadata.csv')\n",
    "movies_meta.head(3)"
   ]
  },
  {
   "cell_type": "code",
   "execution_count": null,
   "metadata": {
    "id": "MGwXq8fxVjfF",
    "outputId": "9ef4d0ad-8271-425e-a50d-a84cbd97ac45"
   },
   "outputs": [
    {
     "data": {
      "text/plain": [
       "Index(['adult', 'belongs_to_collection', 'budget', 'genres', 'homepage', 'id',\n",
       "       'imdb_id', 'original_language', 'original_title', 'overview',\n",
       "       'popularity', 'poster_path', 'production_companies',\n",
       "       'production_countries', 'release_date', 'revenue', 'runtime',\n",
       "       'spoken_languages', 'status', 'tagline', 'title', 'video',\n",
       "       'vote_average', 'vote_count'],\n",
       "      dtype='object')"
      ]
     },
     "execution_count": 105,
     "metadata": {
      "tags": []
     },
     "output_type": "execute_result"
    }
   ],
   "source": [
    "movies_meta.columns"
   ]
  },
  {
   "cell_type": "code",
   "execution_count": null,
   "metadata": {
    "id": "nL7n3T-qVjfF",
    "outputId": "30c4c145-c550-4900-8c52-f297d72061f1"
   },
   "outputs": [
    {
     "data": {
      "text/html": [
       "<div>\n",
       "<style scoped>\n",
       "    .dataframe tbody tr th:only-of-type {\n",
       "        vertical-align: middle;\n",
       "    }\n",
       "\n",
       "    .dataframe tbody tr th {\n",
       "        vertical-align: top;\n",
       "    }\n",
       "\n",
       "    .dataframe thead th {\n",
       "        text-align: right;\n",
       "    }\n",
       "</style>\n",
       "<table border=\"1\" class=\"dataframe\">\n",
       "  <thead>\n",
       "    <tr style=\"text-align: right;\">\n",
       "      <th></th>\n",
       "      <th>imdb_id</th>\n",
       "      <th>original_title</th>\n",
       "      <th>original_language</th>\n",
       "      <th>overview</th>\n",
       "      <th>runtime</th>\n",
       "      <th>vote_average</th>\n",
       "      <th>production_companies</th>\n",
       "    </tr>\n",
       "  </thead>\n",
       "  <tbody>\n",
       "    <tr>\n",
       "      <th>0</th>\n",
       "      <td>tt0114709</td>\n",
       "      <td>Toy Story</td>\n",
       "      <td>en</td>\n",
       "      <td>Led by Woody, Andy's toys live happily in his ...</td>\n",
       "      <td>81.0</td>\n",
       "      <td>7.7</td>\n",
       "      <td>[{'name': 'Pixar Animation Studios', 'id': 3}]</td>\n",
       "    </tr>\n",
       "    <tr>\n",
       "      <th>1</th>\n",
       "      <td>tt0113497</td>\n",
       "      <td>Jumanji</td>\n",
       "      <td>en</td>\n",
       "      <td>When siblings Judy and Peter discover an encha...</td>\n",
       "      <td>104.0</td>\n",
       "      <td>6.9</td>\n",
       "      <td>[{'name': 'TriStar Pictures', 'id': 559}, {'na...</td>\n",
       "    </tr>\n",
       "    <tr>\n",
       "      <th>2</th>\n",
       "      <td>tt0113228</td>\n",
       "      <td>Grumpier Old Men</td>\n",
       "      <td>en</td>\n",
       "      <td>A family wedding reignites the ancient feud be...</td>\n",
       "      <td>101.0</td>\n",
       "      <td>6.5</td>\n",
       "      <td>[{'name': 'Warner Bros.', 'id': 6194}, {'name'...</td>\n",
       "    </tr>\n",
       "  </tbody>\n",
       "</table>\n",
       "</div>"
      ],
      "text/plain": [
       "     imdb_id    original_title original_language  \\\n",
       "0  tt0114709         Toy Story                en   \n",
       "1  tt0113497           Jumanji                en   \n",
       "2  tt0113228  Grumpier Old Men                en   \n",
       "\n",
       "                                            overview  runtime  vote_average  \\\n",
       "0  Led by Woody, Andy's toys live happily in his ...     81.0           7.7   \n",
       "1  When siblings Judy and Peter discover an encha...    104.0           6.9   \n",
       "2  A family wedding reignites the ancient feud be...    101.0           6.5   \n",
       "\n",
       "                                production_companies  \n",
       "0     [{'name': 'Pixar Animation Studios', 'id': 3}]  \n",
       "1  [{'name': 'TriStar Pictures', 'id': 559}, {'na...  \n",
       "2  [{'name': 'Warner Bros.', 'id': 6194}, {'name'...  "
      ]
     },
     "execution_count": 106,
     "metadata": {
      "tags": []
     },
     "output_type": "execute_result"
    }
   ],
   "source": [
    "movies_meta = movies_meta[['imdb_id', 'original_title', 'original_language', 'overview', 'runtime', 'vote_average', 'production_companies']]\n",
    "movies_meta.head(3)"
   ]
  },
  {
   "cell_type": "code",
   "execution_count": null,
   "metadata": {
    "id": "sttYhkfHVjfG",
    "outputId": "3517b74b-4b29-4594-9d99-e29ef0297da6"
   },
   "outputs": [
    {
     "data": {
      "text/html": [
       "<div>\n",
       "<style scoped>\n",
       "    .dataframe tbody tr th:only-of-type {\n",
       "        vertical-align: middle;\n",
       "    }\n",
       "\n",
       "    .dataframe tbody tr th {\n",
       "        vertical-align: top;\n",
       "    }\n",
       "\n",
       "    .dataframe thead th {\n",
       "        text-align: right;\n",
       "    }\n",
       "</style>\n",
       "<table border=\"1\" class=\"dataframe\">\n",
       "  <thead>\n",
       "    <tr style=\"text-align: right;\">\n",
       "      <th></th>\n",
       "      <th>runtime</th>\n",
       "      <th>vote_average</th>\n",
       "    </tr>\n",
       "  </thead>\n",
       "  <tbody>\n",
       "    <tr>\n",
       "      <th>count</th>\n",
       "      <td>45203.000000</td>\n",
       "      <td>45460.000000</td>\n",
       "    </tr>\n",
       "    <tr>\n",
       "      <th>mean</th>\n",
       "      <td>94.128199</td>\n",
       "      <td>5.618207</td>\n",
       "    </tr>\n",
       "    <tr>\n",
       "      <th>std</th>\n",
       "      <td>38.407810</td>\n",
       "      <td>1.924216</td>\n",
       "    </tr>\n",
       "    <tr>\n",
       "      <th>min</th>\n",
       "      <td>0.000000</td>\n",
       "      <td>0.000000</td>\n",
       "    </tr>\n",
       "    <tr>\n",
       "      <th>25%</th>\n",
       "      <td>85.000000</td>\n",
       "      <td>5.000000</td>\n",
       "    </tr>\n",
       "    <tr>\n",
       "      <th>50%</th>\n",
       "      <td>95.000000</td>\n",
       "      <td>6.000000</td>\n",
       "    </tr>\n",
       "    <tr>\n",
       "      <th>75%</th>\n",
       "      <td>107.000000</td>\n",
       "      <td>6.800000</td>\n",
       "    </tr>\n",
       "    <tr>\n",
       "      <th>max</th>\n",
       "      <td>1256.000000</td>\n",
       "      <td>10.000000</td>\n",
       "    </tr>\n",
       "  </tbody>\n",
       "</table>\n",
       "</div>"
      ],
      "text/plain": [
       "            runtime  vote_average\n",
       "count  45203.000000  45460.000000\n",
       "mean      94.128199      5.618207\n",
       "std       38.407810      1.924216\n",
       "min        0.000000      0.000000\n",
       "25%       85.000000      5.000000\n",
       "50%       95.000000      6.000000\n",
       "75%      107.000000      6.800000\n",
       "max     1256.000000     10.000000"
      ]
     },
     "execution_count": 107,
     "metadata": {
      "tags": []
     },
     "output_type": "execute_result"
    }
   ],
   "source": [
    "movies_meta.describe()"
   ]
  },
  {
   "cell_type": "code",
   "execution_count": null,
   "metadata": {
    "id": "8Ws8aaQ2VjfG",
    "outputId": "c17604ca-c9d1-4f74-f986-d3bd4b1fe7c3"
   },
   "outputs": [
    {
     "data": {
      "text/plain": [
       "imdb_id                  17\n",
       "original_title            0\n",
       "original_language        11\n",
       "overview                954\n",
       "runtime                 263\n",
       "vote_average              6\n",
       "production_companies      3\n",
       "dtype: int64"
      ]
     },
     "execution_count": 108,
     "metadata": {
      "tags": []
     },
     "output_type": "execute_result"
    }
   ],
   "source": [
    "movies_meta.isna().sum() # 결측치 확인"
   ]
  },
  {
   "cell_type": "code",
   "execution_count": null,
   "metadata": {
    "id": "Wavtg4hnVjfG"
   },
   "outputs": [],
   "source": [
    "movies_meta = movies_meta.dropna()"
   ]
  },
  {
   "cell_type": "markdown",
   "metadata": {
    "id": "Vo_oOOyLVjfG"
   },
   "source": [
    "- 평균 별점 분포"
   ]
  },
  {
   "cell_type": "code",
   "execution_count": null,
   "metadata": {
    "id": "mU5Ct7jcVjfG",
    "outputId": "6cba127f-2f6a-4613-f9a2-bf42299c5962"
   },
   "outputs": [
    {
     "data": {
      "text/plain": [
       "Text(0, 0.5, 'Ratings')"
      ]
     },
     "execution_count": 110,
     "metadata": {
      "tags": []
     },
     "output_type": "execute_result"
    },
    {
     "data": {
      "image/png": "[encoded data removed]",
      "text/plain": [
       "<Figure size 432x288 with 1 Axes>"
      ]
     },
     "metadata": {
      "needs_background": "light",
      "tags": []
     },
     "output_type": "display_data"
    }
   ],
   "source": [
    "# matplotlib histogram\n",
    "plt.hist(movies_meta['vote_average'], color = 'blue', edgecolor = 'black')\n",
    "\n",
    "# Add labels\n",
    "plt.title('Histogram of Average Ratings')\n",
    "plt.ylabel('Ratings')"
   ]
  },
  {
   "cell_type": "markdown",
   "metadata": {
    "id": "fJIurFehVjfG"
   },
   "source": [
    "- 러닝타임 분포 (이상치 제거 전)"
   ]
  },
  {
   "cell_type": "code",
   "execution_count": null,
   "metadata": {
    "id": "TSXoE1KHVjfG",
    "outputId": "745eb432-1a34-4694-bc47-170cbdff63e8"
   },
   "outputs": [
    {
     "data": {
      "text/plain": [
       "Text(0, 0.5, 'Runtime (min)')"
      ]
     },
     "execution_count": 111,
     "metadata": {
      "tags": []
     },
     "output_type": "execute_result"
    },
    {
     "data": {
      "image/png": "[encoded data removed]",
      "text/plain": [
       "<Figure size 432x288 with 1 Axes>"
      ]
     },
     "metadata": {
      "needs_background": "light",
      "tags": []
     },
     "output_type": "display_data"
    }
   ],
   "source": [
    "# matplotlib histogram\n",
    "plt.hist(movies_meta['runtime'], color = 'blue', edgecolor = 'black')\n",
    "\n",
    "# Add labels\n",
    "plt.title('Histogram of Runtime')\n",
    "plt.ylabel('Runtime (min)')"
   ]
  },
  {
   "cell_type": "markdown",
   "metadata": {
    "id": "KeO8mQCUVjfG"
   },
   "source": [
    "- 러닝타임 분포 (이상치 제거 후)"
   ]
  },
  {
   "cell_type": "code",
   "execution_count": null,
   "metadata": {
    "id": "zKTbMikpVjfH",
    "outputId": "1da33553-6475-47f8-ef3e-6d0596a209d8"
   },
   "outputs": [
    {
     "data": {
      "text/html": [
       "<div>\n",
       "<style scoped>\n",
       "    .dataframe tbody tr th:only-of-type {\n",
       "        vertical-align: middle;\n",
       "    }\n",
       "\n",
       "    .dataframe tbody tr th {\n",
       "        vertical-align: top;\n",
       "    }\n",
       "\n",
       "    .dataframe thead th {\n",
       "        text-align: right;\n",
       "    }\n",
       "</style>\n",
       "<table border=\"1\" class=\"dataframe\">\n",
       "  <thead>\n",
       "    <tr style=\"text-align: right;\">\n",
       "      <th></th>\n",
       "      <th>imdb_id</th>\n",
       "      <th>original_title</th>\n",
       "      <th>original_language</th>\n",
       "      <th>overview</th>\n",
       "      <th>runtime</th>\n",
       "      <th>vote_average</th>\n",
       "      <th>production_companies</th>\n",
       "    </tr>\n",
       "  </thead>\n",
       "  <tbody>\n",
       "    <tr>\n",
       "      <th>24178</th>\n",
       "      <td>tt0076993</td>\n",
       "      <td>Centennial</td>\n",
       "      <td>en</td>\n",
       "      <td>The economic and cultural growth of Colorado s...</td>\n",
       "      <td>1256.0</td>\n",
       "      <td>7.9</td>\n",
       "      <td>[{'name': 'Universal Television', 'id': 26727}]</td>\n",
       "    </tr>\n",
       "  </tbody>\n",
       "</table>\n",
       "</div>"
      ],
      "text/plain": [
       "         imdb_id original_title original_language  \\\n",
       "24178  tt0076993     Centennial                en   \n",
       "\n",
       "                                                overview  runtime  \\\n",
       "24178  The economic and cultural growth of Colorado s...   1256.0   \n",
       "\n",
       "       vote_average                             production_companies  \n",
       "24178           7.9  [{'name': 'Universal Television', 'id': 26727}]  "
      ]
     },
     "execution_count": 112,
     "metadata": {
      "tags": []
     },
     "output_type": "execute_result"
    }
   ],
   "source": [
    "movies_meta[movies_meta.runtime == movies_meta.runtime.max()]"
   ]
  },
  {
   "cell_type": "code",
   "execution_count": null,
   "metadata": {
    "id": "t3R7W_ZDVjfH",
    "outputId": "dd401f62-bca6-4c0c-aae5-aa3668a5990b"
   },
   "outputs": [
    {
     "data": {
      "text/html": [
       "<div>\n",
       "<style scoped>\n",
       "    .dataframe tbody tr th:only-of-type {\n",
       "        vertical-align: middle;\n",
       "    }\n",
       "\n",
       "    .dataframe tbody tr th {\n",
       "        vertical-align: top;\n",
       "    }\n",
       "\n",
       "    .dataframe thead th {\n",
       "        text-align: right;\n",
       "    }\n",
       "</style>\n",
       "<table border=\"1\" class=\"dataframe\">\n",
       "  <thead>\n",
       "    <tr style=\"text-align: right;\">\n",
       "      <th></th>\n",
       "      <th>runtime</th>\n",
       "      <th>vote_average</th>\n",
       "    </tr>\n",
       "  </thead>\n",
       "  <tbody>\n",
       "    <tr>\n",
       "      <th>count</th>\n",
       "      <td>44172.000000</td>\n",
       "      <td>44172.000000</td>\n",
       "    </tr>\n",
       "    <tr>\n",
       "      <th>mean</th>\n",
       "      <td>93.381305</td>\n",
       "      <td>5.633664</td>\n",
       "    </tr>\n",
       "    <tr>\n",
       "      <th>std</th>\n",
       "      <td>29.448439</td>\n",
       "      <td>1.891831</td>\n",
       "    </tr>\n",
       "    <tr>\n",
       "      <th>min</th>\n",
       "      <td>0.000000</td>\n",
       "      <td>0.000000</td>\n",
       "    </tr>\n",
       "    <tr>\n",
       "      <th>25%</th>\n",
       "      <td>85.000000</td>\n",
       "      <td>5.000000</td>\n",
       "    </tr>\n",
       "    <tr>\n",
       "      <th>50%</th>\n",
       "      <td>95.000000</td>\n",
       "      <td>6.000000</td>\n",
       "    </tr>\n",
       "    <tr>\n",
       "      <th>75%</th>\n",
       "      <td>106.000000</td>\n",
       "      <td>6.800000</td>\n",
       "    </tr>\n",
       "    <tr>\n",
       "      <th>max</th>\n",
       "      <td>207.000000</td>\n",
       "      <td>10.000000</td>\n",
       "    </tr>\n",
       "  </tbody>\n",
       "</table>\n",
       "</div>"
      ],
      "text/plain": [
       "            runtime  vote_average\n",
       "count  44172.000000  44172.000000\n",
       "mean      93.381305      5.633664\n",
       "std       29.448439      1.891831\n",
       "min        0.000000      0.000000\n",
       "25%       85.000000      5.000000\n",
       "50%       95.000000      6.000000\n",
       "75%      106.000000      6.800000\n",
       "max      207.000000     10.000000"
      ]
     },
     "execution_count": 115,
     "metadata": {
      "tags": []
     },
     "output_type": "execute_result"
    }
   ],
   "source": [
    "# remove outliers (+- 3 stdv from mean)\n",
    "movies_df = movies_meta[np.abs(movies_meta.runtime-movies_meta.runtime.mean()) <= (3 * movies_meta.runtime.std())]\n",
    "movies_df = movies_df.reset_index(drop = True)\n",
    "movies_df.describe()"
   ]
  },
  {
   "cell_type": "code",
   "execution_count": null,
   "metadata": {
    "id": "GPoKJNSsVjfH",
    "outputId": "dc995188-f860-46ec-d97b-42024a7967de"
   },
   "outputs": [
    {
     "data": {
      "text/plain": [
       "Text(0, 0.5, 'Runtime (min)')"
      ]
     },
     "execution_count": 116,
     "metadata": {
      "tags": []
     },
     "output_type": "execute_result"
    },
    {
     "data": {
      "image/png": "[encoded data removed]",
      "text/plain": [
       "<Figure size 432x288 with 1 Axes>"
      ]
     },
     "metadata": {
      "needs_background": "light",
      "tags": []
     },
     "output_type": "display_data"
    }
   ],
   "source": [
    "# matplotlib histogram\n",
    "plt.hist(movies_df['runtime'], color = 'blue', edgecolor = 'black')\n",
    "\n",
    "# Add labels\n",
    "plt.title('Histogram of Runtime')\n",
    "plt.ylabel('Runtime (min)')"
   ]
  },
  {
   "cell_type": "markdown",
   "metadata": {
    "id": "0LNfD9EPVjfH"
   },
   "source": [
    "<br>\n",
    "\n",
    "### 텍스트 데이터 분석"
   ]
  },
  {
   "cell_type": "code",
   "execution_count": null,
   "metadata": {
    "id": "Tj-j62GyVjfH"
   },
   "outputs": [],
   "source": [
    "from sklearn.feature_extraction.text import TfidfVectorizer\n",
    "from sklearn.metrics.pairwise import cosine_similarity\n",
    "import random"
   ]
  },
  {
   "cell_type": "code",
   "execution_count": null,
   "metadata": {
    "id": "YK5-_I4nVjfH"
   },
   "outputs": [],
   "source": [
    "corpus = movies_df.overview.tolist() # pd series to list"
   ]
  },
  {
   "cell_type": "code",
   "execution_count": null,
   "metadata": {
    "id": "kKImPpFEVjfH"
   },
   "outputs": [],
   "source": [
    "vectorizer = TfidfVectorizer(stop_words='english', min_df=0.0005) # setting min_df (memory issue)"
   ]
  },
  {
   "cell_type": "code",
   "execution_count": null,
   "metadata": {
    "id": "aCICwVDNVjfH"
   },
   "outputs": [],
   "source": [
    "tfidf = vectorizer.fit_transform(corpus).todense()"
   ]
  },
  {
   "cell_type": "code",
   "execution_count": null,
   "metadata": {
    "id": "ija2EW0BVjfH"
   },
   "outputs": [],
   "source": [
    "tfidf_df = pd.DataFrame(tfidf)"
   ]
  },
  {
   "cell_type": "code",
   "execution_count": null,
   "metadata": {
    "id": "42DjN7ECVjfI",
    "outputId": "8c34f75b-a159-4ab9-a089-0c146c9f1a47"
   },
   "outputs": [
    {
     "name": "stdout",
     "output_type": "stream",
     "text": [
      "Similarity between Toy Story and Jumanji  :  [[0.01893468]]\n"
     ]
    }
   ],
   "source": [
    "# ex to see if the model works\n",
    "print(\"Similarity between\", movies_df.original_title[0], \"and\", movies_df.original_title[1], \" : \", cosine_similarity(tfidf[0], tfidf[1]))"
   ]
  },
  {
   "cell_type": "markdown",
   "metadata": {
    "id": "dLSiA0okVjfI"
   },
   "source": [
    "### 영화 추천"
   ]
  },
  {
   "cell_type": "code",
   "execution_count": null,
   "metadata": {
    "id": "TLTSPPjOVjfI",
    "outputId": "37b1dcfe-28f3-4522-9460-eda84ff9ff2a"
   },
   "outputs": [
    {
     "data": {
      "text/html": [
       "<div>\n",
       "<style scoped>\n",
       "    .dataframe tbody tr th:only-of-type {\n",
       "        vertical-align: middle;\n",
       "    }\n",
       "\n",
       "    .dataframe tbody tr th {\n",
       "        vertical-align: top;\n",
       "    }\n",
       "\n",
       "    .dataframe thead th {\n",
       "        text-align: right;\n",
       "    }\n",
       "</style>\n",
       "<table border=\"1\" class=\"dataframe\">\n",
       "  <thead>\n",
       "    <tr style=\"text-align: right;\">\n",
       "      <th></th>\n",
       "      <th>imdb_id</th>\n",
       "      <th>original_title</th>\n",
       "      <th>original_language</th>\n",
       "      <th>overview</th>\n",
       "      <th>runtime</th>\n",
       "      <th>vote_average</th>\n",
       "      <th>production_companies</th>\n",
       "    </tr>\n",
       "  </thead>\n",
       "  <tbody>\n",
       "    <tr>\n",
       "      <th>0</th>\n",
       "      <td>tt0114709</td>\n",
       "      <td>Toy Story</td>\n",
       "      <td>en</td>\n",
       "      <td>Led by Woody, Andy's toys live happily in his ...</td>\n",
       "      <td>81.0</td>\n",
       "      <td>7.7</td>\n",
       "      <td>[{'name': 'Pixar Animation Studios', 'id': 3}]</td>\n",
       "    </tr>\n",
       "    <tr>\n",
       "      <th>1</th>\n",
       "      <td>tt0113497</td>\n",
       "      <td>Jumanji</td>\n",
       "      <td>en</td>\n",
       "      <td>When siblings Judy and Peter discover an encha...</td>\n",
       "      <td>104.0</td>\n",
       "      <td>6.9</td>\n",
       "      <td>[{'name': 'TriStar Pictures', 'id': 559}, {'na...</td>\n",
       "    </tr>\n",
       "    <tr>\n",
       "      <th>2</th>\n",
       "      <td>tt0113228</td>\n",
       "      <td>Grumpier Old Men</td>\n",
       "      <td>en</td>\n",
       "      <td>A family wedding reignites the ancient feud be...</td>\n",
       "      <td>101.0</td>\n",
       "      <td>6.5</td>\n",
       "      <td>[{'name': 'Warner Bros.', 'id': 6194}, {'name'...</td>\n",
       "    </tr>\n",
       "    <tr>\n",
       "      <th>3</th>\n",
       "      <td>tt0114885</td>\n",
       "      <td>Waiting to Exhale</td>\n",
       "      <td>en</td>\n",
       "      <td>Cheated on, mistreated and stepped on, the wom...</td>\n",
       "      <td>127.0</td>\n",
       "      <td>6.1</td>\n",
       "      <td>[{'name': 'Twentieth Century Fox Film Corporat...</td>\n",
       "    </tr>\n",
       "    <tr>\n",
       "      <th>4</th>\n",
       "      <td>tt0113041</td>\n",
       "      <td>Father of the Bride Part II</td>\n",
       "      <td>en</td>\n",
       "      <td>Just when George Banks has recovered from his ...</td>\n",
       "      <td>106.0</td>\n",
       "      <td>5.7</td>\n",
       "      <td>[{'name': 'Sandollar Productions', 'id': 5842}...</td>\n",
       "    </tr>\n",
       "  </tbody>\n",
       "</table>\n",
       "</div>"
      ],
      "text/plain": [
       "     imdb_id               original_title original_language  \\\n",
       "0  tt0114709                    Toy Story                en   \n",
       "1  tt0113497                      Jumanji                en   \n",
       "2  tt0113228             Grumpier Old Men                en   \n",
       "3  tt0114885            Waiting to Exhale                en   \n",
       "4  tt0113041  Father of the Bride Part II                en   \n",
       "\n",
       "                                            overview  runtime  vote_average  \\\n",
       "0  Led by Woody, Andy's toys live happily in his ...     81.0           7.7   \n",
       "1  When siblings Judy and Peter discover an encha...    104.0           6.9   \n",
       "2  A family wedding reignites the ancient feud be...    101.0           6.5   \n",
       "3  Cheated on, mistreated and stepped on, the wom...    127.0           6.1   \n",
       "4  Just when George Banks has recovered from his ...    106.0           5.7   \n",
       "\n",
       "                                production_companies  \n",
       "0     [{'name': 'Pixar Animation Studios', 'id': 3}]  \n",
       "1  [{'name': 'TriStar Pictures', 'id': 559}, {'na...  \n",
       "2  [{'name': 'Warner Bros.', 'id': 6194}, {'name'...  \n",
       "3  [{'name': 'Twentieth Century Fox Film Corporat...  \n",
       "4  [{'name': 'Sandollar Productions', 'id': 5842}...  "
      ]
     },
     "execution_count": 123,
     "metadata": {
      "tags": []
     },
     "output_type": "execute_result"
    }
   ],
   "source": [
    "movies_meta.head()"
   ]
  },
  {
   "cell_type": "code",
   "execution_count": null,
   "metadata": {
    "id": "sL76sN-bVjfI"
   },
   "outputs": [],
   "source": [
    "dct = {}\n",
    "for i in range (1, len(tfidf)):\n",
    "    title = movies_df.original_title[i]\n",
    "    dct[title] = cosine_similarity(tfidf[0], tfidf[i])"
   ]
  },
  {
   "cell_type": "code",
   "execution_count": null,
   "metadata": {
    "id": "hHtUUnOxVjfI",
    "outputId": "08822dd0-97d3-4f35-8b9d-9f715f03d227"
   },
   "outputs": [
    {
     "data": {
      "text/plain": [
       "[('Toy Story 3', array([[0.50568711]])),\n",
       " ('Toy Story 2', array([[0.44204639]])),\n",
       " ('The 40 Year Old Virgin', array([[0.37867561]])),\n",
       " ('The Champ', array([[0.34972492]])),\n",
       " ('Superstar: The Life and Times of Andy Warhol', array([[0.3371542]]))]"
      ]
     },
     "execution_count": 125,
     "metadata": {
      "tags": []
     },
     "output_type": "execute_result"
    }
   ],
   "source": [
    "sorted(dct.items(), key = lambda x: x[1], reverse = True)[:5] # t toystory 기준"
   ]
  },
  {
   "cell_type": "markdown",
   "metadata": {
    "id": "t07u9F96VjfI"
   },
   "source": [
    "<br>\n",
    "\n",
    "### 영화 소개 중 빈도수가 가장 높은 5개 단어 추출"
   ]
  },
  {
   "cell_type": "code",
   "execution_count": null,
   "metadata": {
    "id": "SEBPMbInVjfI",
    "outputId": "87461dcd-a564-456d-8e91-789eab7e0fb9"
   },
   "outputs": [
    {
     "data": {
      "text/html": [
       "<div>\n",
       "<style scoped>\n",
       "    .dataframe tbody tr th:only-of-type {\n",
       "        vertical-align: middle;\n",
       "    }\n",
       "\n",
       "    .dataframe tbody tr th {\n",
       "        vertical-align: top;\n",
       "    }\n",
       "\n",
       "    .dataframe thead th {\n",
       "        text-align: right;\n",
       "    }\n",
       "</style>\n",
       "<table border=\"1\" class=\"dataframe\">\n",
       "  <thead>\n",
       "    <tr style=\"text-align: right;\">\n",
       "      <th></th>\n",
       "      <th>imdb_id</th>\n",
       "      <th>original_title</th>\n",
       "      <th>original_language</th>\n",
       "      <th>overview</th>\n",
       "      <th>runtime</th>\n",
       "      <th>vote_average</th>\n",
       "      <th>production_companies</th>\n",
       "    </tr>\n",
       "  </thead>\n",
       "  <tbody>\n",
       "    <tr>\n",
       "      <th>0</th>\n",
       "      <td>tt0114709</td>\n",
       "      <td>Toy Story</td>\n",
       "      <td>en</td>\n",
       "      <td>Led by Woody, Andy's toys live happily in his ...</td>\n",
       "      <td>81.0</td>\n",
       "      <td>7.7</td>\n",
       "      <td>[{'name': 'Pixar Animation Studios', 'id': 3}]</td>\n",
       "    </tr>\n",
       "    <tr>\n",
       "      <th>1</th>\n",
       "      <td>tt0113497</td>\n",
       "      <td>Jumanji</td>\n",
       "      <td>en</td>\n",
       "      <td>When siblings Judy and Peter discover an encha...</td>\n",
       "      <td>104.0</td>\n",
       "      <td>6.9</td>\n",
       "      <td>[{'name': 'TriStar Pictures', 'id': 559}, {'na...</td>\n",
       "    </tr>\n",
       "    <tr>\n",
       "      <th>2</th>\n",
       "      <td>tt0113228</td>\n",
       "      <td>Grumpier Old Men</td>\n",
       "      <td>en</td>\n",
       "      <td>A family wedding reignites the ancient feud be...</td>\n",
       "      <td>101.0</td>\n",
       "      <td>6.5</td>\n",
       "      <td>[{'name': 'Warner Bros.', 'id': 6194}, {'name'...</td>\n",
       "    </tr>\n",
       "    <tr>\n",
       "      <th>3</th>\n",
       "      <td>tt0114885</td>\n",
       "      <td>Waiting to Exhale</td>\n",
       "      <td>en</td>\n",
       "      <td>Cheated on, mistreated and stepped on, the wom...</td>\n",
       "      <td>127.0</td>\n",
       "      <td>6.1</td>\n",
       "      <td>[{'name': 'Twentieth Century Fox Film Corporat...</td>\n",
       "    </tr>\n",
       "    <tr>\n",
       "      <th>4</th>\n",
       "      <td>tt0113041</td>\n",
       "      <td>Father of the Bride Part II</td>\n",
       "      <td>en</td>\n",
       "      <td>Just when George Banks has recovered from his ...</td>\n",
       "      <td>106.0</td>\n",
       "      <td>5.7</td>\n",
       "      <td>[{'name': 'Sandollar Productions', 'id': 5842}...</td>\n",
       "    </tr>\n",
       "  </tbody>\n",
       "</table>\n",
       "</div>"
      ],
      "text/plain": [
       "     imdb_id               original_title original_language  \\\n",
       "0  tt0114709                    Toy Story                en   \n",
       "1  tt0113497                      Jumanji                en   \n",
       "2  tt0113228             Grumpier Old Men                en   \n",
       "3  tt0114885            Waiting to Exhale                en   \n",
       "4  tt0113041  Father of the Bride Part II                en   \n",
       "\n",
       "                                            overview  runtime  vote_average  \\\n",
       "0  Led by Woody, Andy's toys live happily in his ...     81.0           7.7   \n",
       "1  When siblings Judy and Peter discover an encha...    104.0           6.9   \n",
       "2  A family wedding reignites the ancient feud be...    101.0           6.5   \n",
       "3  Cheated on, mistreated and stepped on, the wom...    127.0           6.1   \n",
       "4  Just when George Banks has recovered from his ...    106.0           5.7   \n",
       "\n",
       "                                production_companies  \n",
       "0     [{'name': 'Pixar Animation Studios', 'id': 3}]  \n",
       "1  [{'name': 'TriStar Pictures', 'id': 559}, {'na...  \n",
       "2  [{'name': 'Warner Bros.', 'id': 6194}, {'name'...  \n",
       "3  [{'name': 'Twentieth Century Fox Film Corporat...  \n",
       "4  [{'name': 'Sandollar Productions', 'id': 5842}...  "
      ]
     },
     "execution_count": 126,
     "metadata": {
      "tags": []
     },
     "output_type": "execute_result"
    }
   ],
   "source": [
    "movies_meta.head()"
   ]
  },
  {
   "cell_type": "code",
   "execution_count": null,
   "metadata": {
    "id": "3d5xgb6mVjfI"
   },
   "outputs": [],
   "source": [
    "overview_df = movies_meta[['imdb_id', 'original_title', 'overview']].head(10000)"
   ]
  },
  {
   "cell_type": "code",
   "execution_count": null,
   "metadata": {
    "id": "ZpdbZK--VjfI"
   },
   "outputs": [],
   "source": [
    "import nltk\n",
    "from nltk.corpus import stopwords\n",
    "\n",
    "stop_words = stopwords.words(\"english\")\n",
    "stop_words.append(',')\n",
    "stop_words.append('.')\n",
    "stop_words.append('’')\n",
    "stop_words.append('”')\n",
    "stop_words.append('—')\n",
    "stop_words.append('that')"
   ]
  },
  {
   "cell_type": "code",
   "execution_count": null,
   "metadata": {
    "id": "8ysTXItEVjfJ",
    "outputId": "c736d277-d275-43db-ad84-d0eec191970a"
   },
   "outputs": [
    {
     "data": {
      "text/html": [
       "<div>\n",
       "<style scoped>\n",
       "    .dataframe tbody tr th:only-of-type {\n",
       "        vertical-align: middle;\n",
       "    }\n",
       "\n",
       "    .dataframe tbody tr th {\n",
       "        vertical-align: top;\n",
       "    }\n",
       "\n",
       "    .dataframe thead th {\n",
       "        text-align: right;\n",
       "    }\n",
       "</style>\n",
       "<table border=\"1\" class=\"dataframe\">\n",
       "  <thead>\n",
       "    <tr style=\"text-align: right;\">\n",
       "      <th></th>\n",
       "      <th>imdb_id</th>\n",
       "      <th>original_title</th>\n",
       "      <th>overview</th>\n",
       "      <th>keywords</th>\n",
       "    </tr>\n",
       "  </thead>\n",
       "  <tbody>\n",
       "  </tbody>\n",
       "</table>\n",
       "</div>"
      ],
      "text/plain": [
       "Empty DataFrame\n",
       "Columns: [imdb_id, original_title, overview, keywords]\n",
       "Index: []"
      ]
     },
     "execution_count": 138,
     "metadata": {
      "tags": []
     },
     "output_type": "execute_result"
    }
   ],
   "source": [
    "overview_df['keywords'] = ''\n",
    "overview_df[overview_df.overview.isnull()]"
   ]
  },
  {
   "cell_type": "code",
   "execution_count": null,
   "metadata": {
    "id": "yqmzv4KoVjfJ"
   },
   "outputs": [],
   "source": [
    "overview_df = overview_df.reset_index(drop = True).head()"
   ]
  },
  {
   "cell_type": "code",
   "execution_count": null,
   "metadata": {
    "id": "NWwR4wEJVjfJ",
    "outputId": "2f2e11b8-bece-4cce-8e14-b7247e377ce6"
   },
   "outputs": [
    {
     "data": {
      "text/html": [
       "<div>\n",
       "<style scoped>\n",
       "    .dataframe tbody tr th:only-of-type {\n",
       "        vertical-align: middle;\n",
       "    }\n",
       "\n",
       "    .dataframe tbody tr th {\n",
       "        vertical-align: top;\n",
       "    }\n",
       "\n",
       "    .dataframe thead th {\n",
       "        text-align: right;\n",
       "    }\n",
       "</style>\n",
       "<table border=\"1\" class=\"dataframe\">\n",
       "  <thead>\n",
       "    <tr style=\"text-align: right;\">\n",
       "      <th></th>\n",
       "      <th>imdb_id</th>\n",
       "      <th>original_title</th>\n",
       "      <th>overview</th>\n",
       "    </tr>\n",
       "  </thead>\n",
       "  <tbody>\n",
       "    <tr>\n",
       "      <th>0</th>\n",
       "      <td>tt0114709</td>\n",
       "      <td>Toy Story</td>\n",
       "      <td>Led by Woody, Andy's toys live happily in his ...</td>\n",
       "    </tr>\n",
       "    <tr>\n",
       "      <th>1</th>\n",
       "      <td>tt0113497</td>\n",
       "      <td>Jumanji</td>\n",
       "      <td>When siblings Judy and Peter discover an encha...</td>\n",
       "    </tr>\n",
       "    <tr>\n",
       "      <th>2</th>\n",
       "      <td>tt0113228</td>\n",
       "      <td>Grumpier Old Men</td>\n",
       "      <td>A family wedding reignites the ancient feud be...</td>\n",
       "    </tr>\n",
       "    <tr>\n",
       "      <th>3</th>\n",
       "      <td>tt0114885</td>\n",
       "      <td>Waiting to Exhale</td>\n",
       "      <td>Cheated on, mistreated and stepped on, the wom...</td>\n",
       "    </tr>\n",
       "    <tr>\n",
       "      <th>4</th>\n",
       "      <td>tt0113041</td>\n",
       "      <td>Father of the Bride Part II</td>\n",
       "      <td>Just when George Banks has recovered from his ...</td>\n",
       "    </tr>\n",
       "  </tbody>\n",
       "</table>\n",
       "</div>"
      ],
      "text/plain": [
       "     imdb_id               original_title  \\\n",
       "0  tt0114709                    Toy Story   \n",
       "1  tt0113497                      Jumanji   \n",
       "2  tt0113228             Grumpier Old Men   \n",
       "3  tt0114885            Waiting to Exhale   \n",
       "4  tt0113041  Father of the Bride Part II   \n",
       "\n",
       "                                            overview  \n",
       "0  Led by Woody, Andy's toys live happily in his ...  \n",
       "1  When siblings Judy and Peter discover an encha...  \n",
       "2  A family wedding reignites the ancient feud be...  \n",
       "3  Cheated on, mistreated and stepped on, the wom...  \n",
       "4  Just when George Banks has recovered from his ...  "
      ]
     },
     "execution_count": 155,
     "metadata": {
      "tags": []
     },
     "output_type": "execute_result"
    }
   ],
   "source": [
    "overview_df.head()"
   ]
  },
  {
   "cell_type": "code",
   "execution_count": null,
   "metadata": {
    "id": "WrfondT7VjfJ",
    "outputId": "30ba7b5c-6f08-430c-bd55-0ef4b45e384c"
   },
   "outputs": [
    {
     "data": {
      "text/html": [
       "<div>\n",
       "<style scoped>\n",
       "    .dataframe tbody tr th:only-of-type {\n",
       "        vertical-align: middle;\n",
       "    }\n",
       "\n",
       "    .dataframe tbody tr th {\n",
       "        vertical-align: top;\n",
       "    }\n",
       "\n",
       "    .dataframe thead th {\n",
       "        text-align: right;\n",
       "    }\n",
       "</style>\n",
       "<table border=\"1\" class=\"dataframe\">\n",
       "  <thead>\n",
       "    <tr style=\"text-align: right;\">\n",
       "      <th></th>\n",
       "      <th>imdb_id</th>\n",
       "      <th>original_title</th>\n",
       "      <th>overview</th>\n",
       "    </tr>\n",
       "  </thead>\n",
       "  <tbody>\n",
       "    <tr>\n",
       "      <th>0</th>\n",
       "      <td>tt0114709</td>\n",
       "      <td>Toy Story</td>\n",
       "      <td>Led by Woody, Andy's toys live happily in his ...</td>\n",
       "    </tr>\n",
       "    <tr>\n",
       "      <th>1</th>\n",
       "      <td>tt0113497</td>\n",
       "      <td>Jumanji</td>\n",
       "      <td>When siblings Judy and Peter discover an encha...</td>\n",
       "    </tr>\n",
       "    <tr>\n",
       "      <th>2</th>\n",
       "      <td>tt0113228</td>\n",
       "      <td>Grumpier Old Men</td>\n",
       "      <td>A family wedding reignites the ancient feud be...</td>\n",
       "    </tr>\n",
       "    <tr>\n",
       "      <th>3</th>\n",
       "      <td>tt0114885</td>\n",
       "      <td>Waiting to Exhale</td>\n",
       "      <td>Cheated on, mistreated and stepped on, the wom...</td>\n",
       "    </tr>\n",
       "    <tr>\n",
       "      <th>4</th>\n",
       "      <td>tt0113041</td>\n",
       "      <td>Father of the Bride Part II</td>\n",
       "      <td>Just when George Banks has recovered from his ...</td>\n",
       "    </tr>\n",
       "  </tbody>\n",
       "</table>\n",
       "</div>"
      ],
      "text/plain": [
       "     imdb_id               original_title  \\\n",
       "0  tt0114709                    Toy Story   \n",
       "1  tt0113497                      Jumanji   \n",
       "2  tt0113228             Grumpier Old Men   \n",
       "3  tt0114885            Waiting to Exhale   \n",
       "4  tt0113041  Father of the Bride Part II   \n",
       "\n",
       "                                            overview  \n",
       "0  Led by Woody, Andy's toys live happily in his ...  \n",
       "1  When siblings Judy and Peter discover an encha...  \n",
       "2  A family wedding reignites the ancient feud be...  \n",
       "3  Cheated on, mistreated and stepped on, the wom...  \n",
       "4  Just when George Banks has recovered from his ...  "
      ]
     },
     "execution_count": 156,
     "metadata": {
      "tags": []
     },
     "output_type": "execute_result"
    }
   ],
   "source": [
    "overview_df.tail()"
   ]
  },
  {
   "cell_type": "code",
   "execution_count": null,
   "metadata": {
    "id": "f4YxoS6TVjfJ",
    "outputId": "c0390274-16f4-42a3-c774-603cabea07df"
   },
   "outputs": [
    {
     "data": {
      "text/plain": [
       "0    Led by Woody, Andy's toys live happily in his ...\n",
       "1    When siblings Judy and Peter discover an encha...\n",
       "2    A family wedding reignites the ancient feud be...\n",
       "3    Cheated on, mistreated and stepped on, the wom...\n",
       "4    Just when George Banks has recovered from his ...\n",
       "Name: overview, dtype: object"
      ]
     },
     "execution_count": 157,
     "metadata": {
      "tags": []
     },
     "output_type": "execute_result"
    }
   ],
   "source": [
    "docs = (overview_df.overview)\n",
    "docs[:5]"
   ]
  },
  {
   "cell_type": "code",
   "execution_count": null,
   "metadata": {
    "id": "_9rd2iXFVjfJ"
   },
   "outputs": [],
   "source": [
    "overview_df['keywords'] = \"\""
   ]
  },
  {
   "cell_type": "code",
   "execution_count": null,
   "metadata": {
    "id": "Wbhiivr_VjfJ"
   },
   "outputs": [],
   "source": [
    "import re\n",
    "from collections import Counter\n",
    "\n",
    "for index, data in enumerate(docs):\n",
    "    words = []\n",
    "    tokens = []\n",
    "    tokenized = nltk.word_tokenize(data)\n",
    "    for token in tokenized:\n",
    "        if token.lower() not in stop_words:\n",
    "            if re.match('^[a-zA-Z]+', token):\n",
    "                tokens.append(token)\n",
    "\n",
    "    counts = Counter(tokens)\n",
    "    words = counts.most_common(5)\n",
    "    \n",
    "    overview_df['keywords'][index] = words"
   ]
  },
  {
   "cell_type": "code",
   "execution_count": null,
   "metadata": {
    "id": "s89iNnLoVjfJ",
    "outputId": "51b486fd-e9f4-4570-ab3d-21a6d463cb89"
   },
   "outputs": [
    {
     "data": {
      "text/html": [
       "<div>\n",
       "<style scoped>\n",
       "    .dataframe tbody tr th:only-of-type {\n",
       "        vertical-align: middle;\n",
       "    }\n",
       "\n",
       "    .dataframe tbody tr th {\n",
       "        vertical-align: top;\n",
       "    }\n",
       "\n",
       "    .dataframe thead th {\n",
       "        text-align: right;\n",
       "    }\n",
       "</style>\n",
       "<table border=\"1\" class=\"dataframe\">\n",
       "  <thead>\n",
       "    <tr style=\"text-align: right;\">\n",
       "      <th></th>\n",
       "      <th>imdb_id</th>\n",
       "      <th>original_title</th>\n",
       "      <th>overview</th>\n",
       "      <th>keywords</th>\n",
       "    </tr>\n",
       "  </thead>\n",
       "  <tbody>\n",
       "    <tr>\n",
       "      <th>0</th>\n",
       "      <td>tt0114709</td>\n",
       "      <td>Toy Story</td>\n",
       "      <td>Led by Woody, Andy's toys live happily in his ...</td>\n",
       "      <td>[(Woody, 3), (Andy, 3), (Buzz, 3), (Led, 1), (...</td>\n",
       "    </tr>\n",
       "    <tr>\n",
       "      <th>1</th>\n",
       "      <td>tt0113497</td>\n",
       "      <td>Jumanji</td>\n",
       "      <td>When siblings Judy and Peter discover an encha...</td>\n",
       "      <td>[(game, 3), (Alan, 2), (siblings, 1), (Judy, 1...</td>\n",
       "    </tr>\n",
       "    <tr>\n",
       "      <th>2</th>\n",
       "      <td>tt0113228</td>\n",
       "      <td>Grumpier Old Men</td>\n",
       "      <td>A family wedding reignites the ancient feud be...</td>\n",
       "      <td>[(Max, 2), (family, 1), (wedding, 1), (reignit...</td>\n",
       "    </tr>\n",
       "    <tr>\n",
       "      <th>3</th>\n",
       "      <td>tt0114885</td>\n",
       "      <td>Waiting to Exhale</td>\n",
       "      <td>Cheated on, mistreated and stepped on, the wom...</td>\n",
       "      <td>[(Cheated, 1), (mistreated, 1), (stepped, 1), ...</td>\n",
       "    </tr>\n",
       "    <tr>\n",
       "      <th>4</th>\n",
       "      <td>tt0113041</td>\n",
       "      <td>Father of the Bride Part II</td>\n",
       "      <td>Just when George Banks has recovered from his ...</td>\n",
       "      <td>[(George, 3), (Banks, 1), (recovered, 1), (dau...</td>\n",
       "    </tr>\n",
       "  </tbody>\n",
       "</table>\n",
       "</div>"
      ],
      "text/plain": [
       "     imdb_id               original_title  \\\n",
       "0  tt0114709                    Toy Story   \n",
       "1  tt0113497                      Jumanji   \n",
       "2  tt0113228             Grumpier Old Men   \n",
       "3  tt0114885            Waiting to Exhale   \n",
       "4  tt0113041  Father of the Bride Part II   \n",
       "\n",
       "                                            overview  \\\n",
       "0  Led by Woody, Andy's toys live happily in his ...   \n",
       "1  When siblings Judy and Peter discover an encha...   \n",
       "2  A family wedding reignites the ancient feud be...   \n",
       "3  Cheated on, mistreated and stepped on, the wom...   \n",
       "4  Just when George Banks has recovered from his ...   \n",
       "\n",
       "                                            keywords  \n",
       "0  [(Woody, 3), (Andy, 3), (Buzz, 3), (Led, 1), (...  \n",
       "1  [(game, 3), (Alan, 2), (siblings, 1), (Judy, 1...  \n",
       "2  [(Max, 2), (family, 1), (wedding, 1), (reignit...  \n",
       "3  [(Cheated, 1), (mistreated, 1), (stepped, 1), ...  \n",
       "4  [(George, 3), (Banks, 1), (recovered, 1), (dau...  "
      ]
     },
     "execution_count": 161,
     "metadata": {
      "tags": []
     },
     "output_type": "execute_result"
    }
   ],
   "source": [
    "overview_df.head()"
   ]
  },
  {
   "cell_type": "code",
   "execution_count": null,
   "metadata": {
    "id": "Ue4Fr_WIVjfJ",
    "outputId": "d176780a-e4ff-4dab-bd23-ddf3afd379cc"
   },
   "outputs": [
    {
     "data": {
      "text/html": [
       "<div>\n",
       "<style scoped>\n",
       "    .dataframe tbody tr th:only-of-type {\n",
       "        vertical-align: middle;\n",
       "    }\n",
       "\n",
       "    .dataframe tbody tr th {\n",
       "        vertical-align: top;\n",
       "    }\n",
       "\n",
       "    .dataframe thead th {\n",
       "        text-align: right;\n",
       "    }\n",
       "</style>\n",
       "<table border=\"1\" class=\"dataframe\">\n",
       "  <thead>\n",
       "    <tr style=\"text-align: right;\">\n",
       "      <th></th>\n",
       "      <th>imdb_id</th>\n",
       "      <th>original_title</th>\n",
       "      <th>overview</th>\n",
       "      <th>keywords</th>\n",
       "    </tr>\n",
       "  </thead>\n",
       "  <tbody>\n",
       "    <tr>\n",
       "      <th>0</th>\n",
       "      <td>tt0114709</td>\n",
       "      <td>Toy Story</td>\n",
       "      <td>Led by Woody, Andy's toys live happily in his ...</td>\n",
       "      <td>[(Woody, 3), (Andy, 3), (Buzz, 3), (Led, 1), (...</td>\n",
       "    </tr>\n",
       "    <tr>\n",
       "      <th>1</th>\n",
       "      <td>tt0113497</td>\n",
       "      <td>Jumanji</td>\n",
       "      <td>When siblings Judy and Peter discover an encha...</td>\n",
       "      <td>[(game, 3), (Alan, 2), (siblings, 1), (Judy, 1...</td>\n",
       "    </tr>\n",
       "    <tr>\n",
       "      <th>2</th>\n",
       "      <td>tt0113228</td>\n",
       "      <td>Grumpier Old Men</td>\n",
       "      <td>A family wedding reignites the ancient feud be...</td>\n",
       "      <td>[(Max, 2), (family, 1), (wedding, 1), (reignit...</td>\n",
       "    </tr>\n",
       "    <tr>\n",
       "      <th>3</th>\n",
       "      <td>tt0114885</td>\n",
       "      <td>Waiting to Exhale</td>\n",
       "      <td>Cheated on, mistreated and stepped on, the wom...</td>\n",
       "      <td>[(Cheated, 1), (mistreated, 1), (stepped, 1), ...</td>\n",
       "    </tr>\n",
       "    <tr>\n",
       "      <th>4</th>\n",
       "      <td>tt0113041</td>\n",
       "      <td>Father of the Bride Part II</td>\n",
       "      <td>Just when George Banks has recovered from his ...</td>\n",
       "      <td>[(George, 3), (Banks, 1), (recovered, 1), (dau...</td>\n",
       "    </tr>\n",
       "  </tbody>\n",
       "</table>\n",
       "</div>"
      ],
      "text/plain": [
       "     imdb_id               original_title  \\\n",
       "0  tt0114709                    Toy Story   \n",
       "1  tt0113497                      Jumanji   \n",
       "2  tt0113228             Grumpier Old Men   \n",
       "3  tt0114885            Waiting to Exhale   \n",
       "4  tt0113041  Father of the Bride Part II   \n",
       "\n",
       "                                            overview  \\\n",
       "0  Led by Woody, Andy's toys live happily in his ...   \n",
       "1  When siblings Judy and Peter discover an encha...   \n",
       "2  A family wedding reignites the ancient feud be...   \n",
       "3  Cheated on, mistreated and stepped on, the wom...   \n",
       "4  Just when George Banks has recovered from his ...   \n",
       "\n",
       "                                            keywords  \n",
       "0  [(Woody, 3), (Andy, 3), (Buzz, 3), (Led, 1), (...  \n",
       "1  [(game, 3), (Alan, 2), (siblings, 1), (Judy, 1...  \n",
       "2  [(Max, 2), (family, 1), (wedding, 1), (reignit...  \n",
       "3  [(Cheated, 1), (mistreated, 1), (stepped, 1), ...  \n",
       "4  [(George, 3), (Banks, 1), (recovered, 1), (dau...  "
      ]
     },
     "execution_count": 162,
     "metadata": {
      "tags": []
     },
     "output_type": "execute_result"
    }
   ],
   "source": [
    "overview_df.tail()"
   ]
  }
 ],
 "metadata": {
  "colab": {
   "name": "mid-project1_07.08_임주란.ipynb",
   "provenance": []
  },
  "kernelspec": {
   "display_name": "Python 3",
   "language": "python",
   "name": "python3"
  },
  "language_info": {
   "codemirror_mode": {
    "name": "ipython",
    "version": 3
   },
   "file_extension": ".py",
   "mimetype": "text/x-python",
   "name": "python",
   "nbconvert_exporter": "python",
   "pygments_lexer": "ipython3",
   "version": "3.7.3"
  },
  "toc": {
   "base_numbering": 1,
   "nav_menu": {},
   "number_sections": true,
   "sideBar": true,
   "skip_h1_title": false,
   "title_cell": "Table of Contents",
   "title_sidebar": "Contents",
   "toc_cell": false,
   "toc_position": {},
   "toc_section_display": true,
   "toc_window_display": false
  }
 },
 "nbformat": 4,
 "nbformat_minor": 1
}
